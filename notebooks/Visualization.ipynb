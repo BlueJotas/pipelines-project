{
 "cells": [
  {
   "cell_type": "code",
   "execution_count": 9,
   "metadata": {},
   "outputs": [],
   "source": [
    "import pandas as pd\n",
    "import matplotlib.pyplot as plt\n",
    "import seaborn as sns"
   ]
  },
  {
   "cell_type": "markdown",
   "metadata": {},
   "source": [
    "# Hypothesis:\n",
    "\n",
    "First we want to confirm that the most selled headphones from both sides (based on the quantity of reviews) are usually cheaper than the average price in the market, in order to see what people value most in both markets.\n",
    "Also we want to proof that wireless/bluetooth earphones are more expensive in general than the wired ones, and that they are more popular/selled than the other kind based on number of reviews as a measure of popularity."
   ]
  },
  {
   "cell_type": "markdown",
   "metadata": {},
   "source": [
    "### Now, we print the datasets that represent 'Bluetooth Earphones' and 'Wired Earphones'."
   ]
  },
  {
   "cell_type": "code",
   "execution_count": 4,
   "metadata": {},
   "outputs": [],
   "source": [
    "df = pd.read_csv('../Data/AllProductReviews.csv')"
   ]
  },
  {
   "cell_type": "code",
   "execution_count": 6,
   "metadata": {},
   "outputs": [],
   "source": [
    "df_price= pd.read_csv('../Data/NewProductInfo.csv')"
   ]
  },
  {
   "cell_type": "code",
   "execution_count": 29,
   "metadata": {},
   "outputs": [],
   "source": [
    "df_wired = pd.read_csv('../Data/WiredEarphones.csv')"
   ]
  },
  {
   "cell_type": "code",
   "execution_count": 32,
   "metadata": {},
   "outputs": [],
   "source": [
    "df_wired_price = pd.read_csv('../Data/ProductEarphones.csv')"
   ]
  },
  {
   "cell_type": "markdown",
   "metadata": {},
   "source": [
    "#### Bluetooth Earphones:"
   ]
  },
  {
   "cell_type": "code",
   "execution_count": 7,
   "metadata": {},
   "outputs": [
    {
     "data": {
      "text/html": [
       "<div>\n",
       "<style scoped>\n",
       "    .dataframe tbody tr th:only-of-type {\n",
       "        vertical-align: middle;\n",
       "    }\n",
       "\n",
       "    .dataframe tbody tr th {\n",
       "        vertical-align: top;\n",
       "    }\n",
       "\n",
       "    .dataframe thead th {\n",
       "        text-align: right;\n",
       "    }\n",
       "</style>\n",
       "<table border=\"1\" class=\"dataframe\">\n",
       "  <thead>\n",
       "    <tr style=\"text-align: right;\">\n",
       "      <th></th>\n",
       "      <th>ReviewTitle</th>\n",
       "      <th>ReviewBody</th>\n",
       "      <th>ReviewStar</th>\n",
       "      <th>Product</th>\n",
       "    </tr>\n",
       "  </thead>\n",
       "  <tbody>\n",
       "    <tr>\n",
       "      <th>0</th>\n",
       "      <td>Honest review of an edm music lover\\n</td>\n",
       "      <td>No doubt it has a great bass and to a great ex...</td>\n",
       "      <td>3</td>\n",
       "      <td>boAt Rockerz 255</td>\n",
       "    </tr>\n",
       "    <tr>\n",
       "      <th>1</th>\n",
       "      <td>Unreliable earphones with high cost\\n</td>\n",
       "      <td>This  earphones are unreliable, i bought it be...</td>\n",
       "      <td>1</td>\n",
       "      <td>boAt Rockerz 255</td>\n",
       "    </tr>\n",
       "    <tr>\n",
       "      <th>2</th>\n",
       "      <td>Really good and durable.\\n</td>\n",
       "      <td>i bought itfor 999,I purchased it second time,...</td>\n",
       "      <td>4</td>\n",
       "      <td>boAt Rockerz 255</td>\n",
       "    </tr>\n",
       "    <tr>\n",
       "      <th>3</th>\n",
       "      <td>stopped working in just 14 days\\n</td>\n",
       "      <td>Its sound quality is adorable. overall it was ...</td>\n",
       "      <td>1</td>\n",
       "      <td>boAt Rockerz 255</td>\n",
       "    </tr>\n",
       "    <tr>\n",
       "      <th>4</th>\n",
       "      <td>Just Awesome Wireless Headphone under 1000...😉\\n</td>\n",
       "      <td>Its Awesome... Good sound quality &amp; 8-9 hrs ba...</td>\n",
       "      <td>5</td>\n",
       "      <td>boAt Rockerz 255</td>\n",
       "    </tr>\n",
       "    <tr>\n",
       "      <th>...</th>\n",
       "      <td>...</td>\n",
       "      <td>...</td>\n",
       "      <td>...</td>\n",
       "      <td>...</td>\n",
       "    </tr>\n",
       "    <tr>\n",
       "      <th>14332</th>\n",
       "      <td>Good\\n</td>\n",
       "      <td>Good\\n</td>\n",
       "      <td>4</td>\n",
       "      <td>JBL T110BT</td>\n",
       "    </tr>\n",
       "    <tr>\n",
       "      <th>14333</th>\n",
       "      <td>Amazing Product\\n</td>\n",
       "      <td>An amazing product but a bit costly.\\n</td>\n",
       "      <td>5</td>\n",
       "      <td>JBL T110BT</td>\n",
       "    </tr>\n",
       "    <tr>\n",
       "      <th>14334</th>\n",
       "      <td>Not bad\\n</td>\n",
       "      <td>Sound\\n</td>\n",
       "      <td>1</td>\n",
       "      <td>JBL T110BT</td>\n",
       "    </tr>\n",
       "    <tr>\n",
       "      <th>14335</th>\n",
       "      <td>a good product\\n</td>\n",
       "      <td>the sound is good battery life is good but the...</td>\n",
       "      <td>5</td>\n",
       "      <td>JBL T110BT</td>\n",
       "    </tr>\n",
       "    <tr>\n",
       "      <th>14336</th>\n",
       "      <td>Average headphones , n overrated name\\n</td>\n",
       "      <td>M writing this review after using for almost 7...</td>\n",
       "      <td>1</td>\n",
       "      <td>JBL T110BT</td>\n",
       "    </tr>\n",
       "  </tbody>\n",
       "</table>\n",
       "<p>14337 rows × 4 columns</p>\n",
       "</div>"
      ],
      "text/plain": [
       "                                            ReviewTitle  \\\n",
       "0                 Honest review of an edm music lover\\n   \n",
       "1                 Unreliable earphones with high cost\\n   \n",
       "2                            Really good and durable.\\n   \n",
       "3                     stopped working in just 14 days\\n   \n",
       "4      Just Awesome Wireless Headphone under 1000...😉\\n   \n",
       "...                                                 ...   \n",
       "14332                                            Good\\n   \n",
       "14333                                 Amazing Product\\n   \n",
       "14334                                         Not bad\\n   \n",
       "14335                                  a good product\\n   \n",
       "14336           Average headphones , n overrated name\\n   \n",
       "\n",
       "                                              ReviewBody  ReviewStar  \\\n",
       "0      No doubt it has a great bass and to a great ex...           3   \n",
       "1      This  earphones are unreliable, i bought it be...           1   \n",
       "2      i bought itfor 999,I purchased it second time,...           4   \n",
       "3      Its sound quality is adorable. overall it was ...           1   \n",
       "4      Its Awesome... Good sound quality & 8-9 hrs ba...           5   \n",
       "...                                                  ...         ...   \n",
       "14332                                             Good\\n           4   \n",
       "14333             An amazing product but a bit costly.\\n           5   \n",
       "14334                                            Sound\\n           1   \n",
       "14335  the sound is good battery life is good but the...           5   \n",
       "14336  M writing this review after using for almost 7...           1   \n",
       "\n",
       "                Product  \n",
       "0      boAt Rockerz 255  \n",
       "1      boAt Rockerz 255  \n",
       "2      boAt Rockerz 255  \n",
       "3      boAt Rockerz 255  \n",
       "4      boAt Rockerz 255  \n",
       "...                 ...  \n",
       "14332        JBL T110BT  \n",
       "14333        JBL T110BT  \n",
       "14334        JBL T110BT  \n",
       "14335        JBL T110BT  \n",
       "14336        JBL T110BT  \n",
       "\n",
       "[14337 rows x 4 columns]"
      ]
     },
     "execution_count": 7,
     "metadata": {},
     "output_type": "execute_result"
    }
   ],
   "source": [
    "# We print its number of reviews first.\n",
    "df"
   ]
  },
  {
   "cell_type": "code",
   "execution_count": 40,
   "metadata": {
    "scrolled": false
   },
   "outputs": [
    {
     "data": {
      "text/html": [
       "<div>\n",
       "<style scoped>\n",
       "    .dataframe tbody tr th:only-of-type {\n",
       "        vertical-align: middle;\n",
       "    }\n",
       "\n",
       "    .dataframe tbody tr th {\n",
       "        vertical-align: top;\n",
       "    }\n",
       "\n",
       "    .dataframe thead th {\n",
       "        text-align: right;\n",
       "    }\n",
       "</style>\n",
       "<table border=\"1\" class=\"dataframe\">\n",
       "  <thead>\n",
       "    <tr style=\"text-align: right;\">\n",
       "      <th></th>\n",
       "      <th>ProductFullName</th>\n",
       "      <th>ProductShortName</th>\n",
       "      <th>Prices</th>\n",
       "    </tr>\n",
       "  </thead>\n",
       "  <tbody>\n",
       "    <tr>\n",
       "      <th>0</th>\n",
       "      <td>boAt Rockerz 255 Sports Bluetooth Wireless Ear...</td>\n",
       "      <td>boAt Rockerz 255</td>\n",
       "      <td>16</td>\n",
       "    </tr>\n",
       "    <tr>\n",
       "      <th>1</th>\n",
       "      <td>Flybot Wave in-Ear Sport Wireless Bluetooth Ea...</td>\n",
       "      <td>Flybot Wave</td>\n",
       "      <td>13</td>\n",
       "    </tr>\n",
       "    <tr>\n",
       "      <th>2</th>\n",
       "      <td>Flybot Boom Deep Bass in-Ear Wireless Bluetoot...</td>\n",
       "      <td>Flybot Boom</td>\n",
       "      <td>13</td>\n",
       "    </tr>\n",
       "    <tr>\n",
       "      <th>3</th>\n",
       "      <td>PTron Intunes Pro Headphone Magnetic Earphone ...</td>\n",
       "      <td>PTron Intunes</td>\n",
       "      <td>9</td>\n",
       "    </tr>\n",
       "    <tr>\n",
       "      <th>4</th>\n",
       "      <td>Flybot Beat True Wireless Bluetooth Earphones ...</td>\n",
       "      <td>Flybot Beat</td>\n",
       "      <td>34</td>\n",
       "    </tr>\n",
       "    <tr>\n",
       "      <th>5</th>\n",
       "      <td>Samsung EO-BG950CBEGIN Bluetooth Wireless in-E...</td>\n",
       "      <td>Samsung EO-BG950CBEIN</td>\n",
       "      <td>36</td>\n",
       "    </tr>\n",
       "    <tr>\n",
       "      <th>6</th>\n",
       "      <td>JBL T205BT Pure Bass Wireless Metal Earbud Hea...</td>\n",
       "      <td>JBL T205BT</td>\n",
       "      <td>23</td>\n",
       "    </tr>\n",
       "    <tr>\n",
       "      <th>7</th>\n",
       "      <td>Sennheiser CX 6.0BT 507447 in Ear Wireless Ear...</td>\n",
       "      <td>Sennheiser CX 6.0BT</td>\n",
       "      <td>74</td>\n",
       "    </tr>\n",
       "    <tr>\n",
       "      <th>8</th>\n",
       "      <td>Skullcandy S2PGHW-174 in-Ear Wireless Headphon...</td>\n",
       "      <td>Skullcandy S2PGHW-174</td>\n",
       "      <td>42</td>\n",
       "    </tr>\n",
       "    <tr>\n",
       "      <th>9</th>\n",
       "      <td>JBL T110BT Pure Bass Wireless in-Ear Headphone...</td>\n",
       "      <td>JBL T110BT</td>\n",
       "      <td>23</td>\n",
       "    </tr>\n",
       "  </tbody>\n",
       "</table>\n",
       "</div>"
      ],
      "text/plain": [
       "                                     ProductFullName       ProductShortName  \\\n",
       "0  boAt Rockerz 255 Sports Bluetooth Wireless Ear...       boAt Rockerz 255   \n",
       "1  Flybot Wave in-Ear Sport Wireless Bluetooth Ea...            Flybot Wave   \n",
       "2  Flybot Boom Deep Bass in-Ear Wireless Bluetoot...            Flybot Boom   \n",
       "3  PTron Intunes Pro Headphone Magnetic Earphone ...          PTron Intunes   \n",
       "4  Flybot Beat True Wireless Bluetooth Earphones ...            Flybot Beat   \n",
       "5  Samsung EO-BG950CBEGIN Bluetooth Wireless in-E...  Samsung EO-BG950CBEIN   \n",
       "6  JBL T205BT Pure Bass Wireless Metal Earbud Hea...             JBL T205BT   \n",
       "7  Sennheiser CX 6.0BT 507447 in Ear Wireless Ear...    Sennheiser CX 6.0BT   \n",
       "8  Skullcandy S2PGHW-174 in-Ear Wireless Headphon...  Skullcandy S2PGHW-174   \n",
       "9  JBL T110BT Pure Bass Wireless in-Ear Headphone...             JBL T110BT   \n",
       "\n",
       "   Prices  \n",
       "0      16  \n",
       "1      13  \n",
       "2      13  \n",
       "3       9  \n",
       "4      34  \n",
       "5      36  \n",
       "6      23  \n",
       "7      74  \n",
       "8      42  \n",
       "9      23  "
      ]
     },
     "execution_count": 40,
     "metadata": {},
     "output_type": "execute_result"
    }
   ],
   "source": [
    "# And then its prices.\n",
    "df_price"
   ]
  },
  {
   "cell_type": "markdown",
   "metadata": {},
   "source": [
    "#### Wired Earphones:"
   ]
  },
  {
   "cell_type": "code",
   "execution_count": 39,
   "metadata": {
    "scrolled": true
   },
   "outputs": [
    {
     "data": {
      "text/html": [
       "<div>\n",
       "<style scoped>\n",
       "    .dataframe tbody tr th:only-of-type {\n",
       "        vertical-align: middle;\n",
       "    }\n",
       "\n",
       "    .dataframe tbody tr th {\n",
       "        vertical-align: top;\n",
       "    }\n",
       "\n",
       "    .dataframe thead th {\n",
       "        text-align: right;\n",
       "    }\n",
       "</style>\n",
       "<table border=\"1\" class=\"dataframe\">\n",
       "  <thead>\n",
       "    <tr style=\"text-align: right;\">\n",
       "      <th></th>\n",
       "      <th>ReviewStar</th>\n",
       "      <th>count</th>\n",
       "      <th>product</th>\n",
       "    </tr>\n",
       "  </thead>\n",
       "  <tbody>\n",
       "    <tr>\n",
       "      <th>0</th>\n",
       "      <td>5</td>\n",
       "      <td>1256</td>\n",
       "      <td>JBL T205</td>\n",
       "    </tr>\n",
       "    <tr>\n",
       "      <th>1</th>\n",
       "      <td>4</td>\n",
       "      <td>450</td>\n",
       "      <td>JBL T205</td>\n",
       "    </tr>\n",
       "    <tr>\n",
       "      <th>2</th>\n",
       "      <td>3</td>\n",
       "      <td>213</td>\n",
       "      <td>JBL T205</td>\n",
       "    </tr>\n",
       "    <tr>\n",
       "      <th>3</th>\n",
       "      <td>2</td>\n",
       "      <td>118</td>\n",
       "      <td>JBL T205</td>\n",
       "    </tr>\n",
       "    <tr>\n",
       "      <th>4</th>\n",
       "      <td>1</td>\n",
       "      <td>331</td>\n",
       "      <td>JBL T205</td>\n",
       "    </tr>\n",
       "    <tr>\n",
       "      <th>5</th>\n",
       "      <td>5</td>\n",
       "      <td>986</td>\n",
       "      <td>Samsung BT-EOEG920BR</td>\n",
       "    </tr>\n",
       "    <tr>\n",
       "      <th>6</th>\n",
       "      <td>4</td>\n",
       "      <td>238</td>\n",
       "      <td>Samsung BT-EOEG920BR</td>\n",
       "    </tr>\n",
       "    <tr>\n",
       "      <th>7</th>\n",
       "      <td>3</td>\n",
       "      <td>170</td>\n",
       "      <td>Samsung BT-EOEG920BR</td>\n",
       "    </tr>\n",
       "    <tr>\n",
       "      <th>8</th>\n",
       "      <td>2</td>\n",
       "      <td>85</td>\n",
       "      <td>Samsung BT-EOEG920BR</td>\n",
       "    </tr>\n",
       "    <tr>\n",
       "      <th>9</th>\n",
       "      <td>1</td>\n",
       "      <td>204</td>\n",
       "      <td>Samsung BT-EOEG920BR</td>\n",
       "    </tr>\n",
       "    <tr>\n",
       "      <th>10</th>\n",
       "      <td>5</td>\n",
       "      <td>109</td>\n",
       "      <td>Sennheiser Momentum</td>\n",
       "    </tr>\n",
       "    <tr>\n",
       "      <th>11</th>\n",
       "      <td>4</td>\n",
       "      <td>27</td>\n",
       "      <td>Sennheiser Momentum</td>\n",
       "    </tr>\n",
       "    <tr>\n",
       "      <th>12</th>\n",
       "      <td>3</td>\n",
       "      <td>23</td>\n",
       "      <td>Sennheiser Momentum</td>\n",
       "    </tr>\n",
       "    <tr>\n",
       "      <th>13</th>\n",
       "      <td>2</td>\n",
       "      <td>19</td>\n",
       "      <td>Sennheiser Momentum</td>\n",
       "    </tr>\n",
       "    <tr>\n",
       "      <th>14</th>\n",
       "      <td>1</td>\n",
       "      <td>13</td>\n",
       "      <td>Sennheiser Momentum</td>\n",
       "    </tr>\n",
       "    <tr>\n",
       "      <th>15</th>\n",
       "      <td>5</td>\n",
       "      <td>10569</td>\n",
       "      <td>Skullcandy Ink'd 2.0</td>\n",
       "    </tr>\n",
       "    <tr>\n",
       "      <th>16</th>\n",
       "      <td>4</td>\n",
       "      <td>3666</td>\n",
       "      <td>Skullcandy Ink'd 2.0</td>\n",
       "    </tr>\n",
       "    <tr>\n",
       "      <th>17</th>\n",
       "      <td>3</td>\n",
       "      <td>1941</td>\n",
       "      <td>Skullcandy Ink'd 2.0</td>\n",
       "    </tr>\n",
       "    <tr>\n",
       "      <th>18</th>\n",
       "      <td>2</td>\n",
       "      <td>1509</td>\n",
       "      <td>Skullcandy Ink'd 2.0</td>\n",
       "    </tr>\n",
       "    <tr>\n",
       "      <th>19</th>\n",
       "      <td>1</td>\n",
       "      <td>4314</td>\n",
       "      <td>Skullcandy Ink'd 2.0</td>\n",
       "    </tr>\n",
       "    <tr>\n",
       "      <th>20</th>\n",
       "      <td>5</td>\n",
       "      <td>332</td>\n",
       "      <td>Auriculares con Cables</td>\n",
       "    </tr>\n",
       "    <tr>\n",
       "      <th>21</th>\n",
       "      <td>4</td>\n",
       "      <td>136</td>\n",
       "      <td>Auriculares con Cables</td>\n",
       "    </tr>\n",
       "    <tr>\n",
       "      <th>22</th>\n",
       "      <td>3</td>\n",
       "      <td>59</td>\n",
       "      <td>Auriculares con Cables</td>\n",
       "    </tr>\n",
       "    <tr>\n",
       "      <th>23</th>\n",
       "      <td>2</td>\n",
       "      <td>29</td>\n",
       "      <td>Auriculares con Cables</td>\n",
       "    </tr>\n",
       "    <tr>\n",
       "      <th>24</th>\n",
       "      <td>1</td>\n",
       "      <td>35</td>\n",
       "      <td>Auriculares con Cables</td>\n",
       "    </tr>\n",
       "    <tr>\n",
       "      <th>25</th>\n",
       "      <td>5</td>\n",
       "      <td>41</td>\n",
       "      <td>Xiaomi</td>\n",
       "    </tr>\n",
       "    <tr>\n",
       "      <th>26</th>\n",
       "      <td>4</td>\n",
       "      <td>8</td>\n",
       "      <td>Xiaomi</td>\n",
       "    </tr>\n",
       "    <tr>\n",
       "      <th>27</th>\n",
       "      <td>3</td>\n",
       "      <td>2</td>\n",
       "      <td>Xiaomi</td>\n",
       "    </tr>\n",
       "    <tr>\n",
       "      <th>28</th>\n",
       "      <td>2</td>\n",
       "      <td>1</td>\n",
       "      <td>Xiaomi</td>\n",
       "    </tr>\n",
       "    <tr>\n",
       "      <th>29</th>\n",
       "      <td>1</td>\n",
       "      <td>6</td>\n",
       "      <td>Xiaomi</td>\n",
       "    </tr>\n",
       "  </tbody>\n",
       "</table>\n",
       "</div>"
      ],
      "text/plain": [
       "    ReviewStar  count                 product\n",
       "0            5   1256                JBL T205\n",
       "1            4    450                JBL T205\n",
       "2            3    213                JBL T205\n",
       "3            2    118                JBL T205\n",
       "4            1    331                JBL T205\n",
       "5            5    986    Samsung BT-EOEG920BR\n",
       "6            4    238    Samsung BT-EOEG920BR\n",
       "7            3    170    Samsung BT-EOEG920BR\n",
       "8            2     85    Samsung BT-EOEG920BR\n",
       "9            1    204    Samsung BT-EOEG920BR\n",
       "10           5    109     Sennheiser Momentum\n",
       "11           4     27     Sennheiser Momentum\n",
       "12           3     23     Sennheiser Momentum\n",
       "13           2     19     Sennheiser Momentum\n",
       "14           1     13     Sennheiser Momentum\n",
       "15           5  10569    Skullcandy Ink'd 2.0\n",
       "16           4   3666    Skullcandy Ink'd 2.0\n",
       "17           3   1941    Skullcandy Ink'd 2.0\n",
       "18           2   1509    Skullcandy Ink'd 2.0\n",
       "19           1   4314    Skullcandy Ink'd 2.0\n",
       "20           5    332  Auriculares con Cables\n",
       "21           4    136  Auriculares con Cables\n",
       "22           3     59  Auriculares con Cables\n",
       "23           2     29  Auriculares con Cables\n",
       "24           1     35  Auriculares con Cables\n",
       "25           5     41                  Xiaomi\n",
       "26           4      8                  Xiaomi\n",
       "27           3      2                  Xiaomi\n",
       "28           2      1                  Xiaomi\n",
       "29           1      6                  Xiaomi"
      ]
     },
     "execution_count": 39,
     "metadata": {},
     "output_type": "execute_result"
    }
   ],
   "source": [
    "#Then we print the number of reviews of the 'Wired Earphones'.\n",
    "df_wired\n",
    "\n",
    "# Sidenote:\n",
    "    # The'count' column stands for the number of reviews in relationship with the number of stars for each product."
   ]
  },
  {
   "cell_type": "code",
   "execution_count": 38,
   "metadata": {
    "scrolled": true
   },
   "outputs": [
    {
     "data": {
      "text/html": [
       "<div>\n",
       "<style scoped>\n",
       "    .dataframe tbody tr th:only-of-type {\n",
       "        vertical-align: middle;\n",
       "    }\n",
       "\n",
       "    .dataframe tbody tr th {\n",
       "        vertical-align: top;\n",
       "    }\n",
       "\n",
       "    .dataframe thead th {\n",
       "        text-align: right;\n",
       "    }\n",
       "</style>\n",
       "<table border=\"1\" class=\"dataframe\">\n",
       "  <thead>\n",
       "    <tr style=\"text-align: right;\">\n",
       "      <th></th>\n",
       "      <th>product</th>\n",
       "      <th>prices</th>\n",
       "    </tr>\n",
       "  </thead>\n",
       "  <tbody>\n",
       "    <tr>\n",
       "      <th>0</th>\n",
       "      <td>JBL T205</td>\n",
       "      <td>20</td>\n",
       "    </tr>\n",
       "    <tr>\n",
       "      <th>1</th>\n",
       "      <td>Samsung BT-EOEG920BR</td>\n",
       "      <td>20</td>\n",
       "    </tr>\n",
       "    <tr>\n",
       "      <th>2</th>\n",
       "      <td>Sennheiser Momentum</td>\n",
       "      <td>65</td>\n",
       "    </tr>\n",
       "    <tr>\n",
       "      <th>3</th>\n",
       "      <td>Skullcandy Ink'd 2.0</td>\n",
       "      <td>23</td>\n",
       "    </tr>\n",
       "    <tr>\n",
       "      <th>4</th>\n",
       "      <td>Auriculares con Cables</td>\n",
       "      <td>8</td>\n",
       "    </tr>\n",
       "    <tr>\n",
       "      <th>5</th>\n",
       "      <td>Xiaomi</td>\n",
       "      <td>11</td>\n",
       "    </tr>\n",
       "  </tbody>\n",
       "</table>\n",
       "</div>"
      ],
      "text/plain": [
       "                  product  prices\n",
       "0                JBL T205      20\n",
       "1    Samsung BT-EOEG920BR      20\n",
       "2     Sennheiser Momentum      65\n",
       "3    Skullcandy Ink'd 2.0      23\n",
       "4  Auriculares con Cables       8\n",
       "5                  Xiaomi      11"
      ]
     },
     "execution_count": 38,
     "metadata": {},
     "output_type": "execute_result"
    }
   ],
   "source": [
    "# And then its sample prices.\n",
    "df_wired_price"
   ]
  },
  {
   "cell_type": "markdown",
   "metadata": {},
   "source": [
    "### Once we've done that, we proceed to plot the aspects that we are interested in, in order to compare them to the 'Wired Earphones' dataset."
   ]
  },
  {
   "cell_type": "markdown",
   "metadata": {},
   "source": [
    "First, we want to check if the best seller in the dataset from 'Bluetooth Earphones' is above or below the mean prices."
   ]
  },
  {
   "cell_type": "code",
   "execution_count": 14,
   "metadata": {
    "scrolled": true
   },
   "outputs": [
    {
     "data": {
      "text/plain": [
       "count                14337\n",
       "unique                  10\n",
       "top       boAt Rockerz 255\n",
       "freq                  5000\n",
       "Name: Product, dtype: object"
      ]
     },
     "execution_count": 14,
     "metadata": {},
     "output_type": "execute_result"
    }
   ],
   "source": [
    "df[\"Product\"].describe()\n",
    "\n",
    "# We localize the best seller looking at out \"top\" output: \"top\" -> \"boAt Rockez 255\"."
   ]
  },
  {
   "cell_type": "markdown",
   "metadata": {},
   "source": [
    "Now that we have the best seller, we localize it's price and we compare it to the average product price."
   ]
  },
  {
   "cell_type": "code",
   "execution_count": 134,
   "metadata": {},
   "outputs": [
    {
     "data": {
      "text/html": [
       "<div>\n",
       "<style scoped>\n",
       "    .dataframe tbody tr th:only-of-type {\n",
       "        vertical-align: middle;\n",
       "    }\n",
       "\n",
       "    .dataframe tbody tr th {\n",
       "        vertical-align: top;\n",
       "    }\n",
       "\n",
       "    .dataframe thead th {\n",
       "        text-align: right;\n",
       "    }\n",
       "</style>\n",
       "<table border=\"1\" class=\"dataframe\">\n",
       "  <thead>\n",
       "    <tr style=\"text-align: right;\">\n",
       "      <th></th>\n",
       "      <th>ProductFullName</th>\n",
       "      <th>ProductShortName</th>\n",
       "      <th>Prices</th>\n",
       "    </tr>\n",
       "  </thead>\n",
       "  <tbody>\n",
       "    <tr>\n",
       "      <th>0</th>\n",
       "      <td>boAt Rockerz 255 Sports Bluetooth Wireless Ear...</td>\n",
       "      <td>boAt Rockerz 255</td>\n",
       "      <td>16</td>\n",
       "    </tr>\n",
       "  </tbody>\n",
       "</table>\n",
       "</div>"
      ],
      "text/plain": [
       "                                     ProductFullName  ProductShortName Prices\n",
       "0  boAt Rockerz 255 Sports Bluetooth Wireless Ear...  boAt Rockerz 255     16"
      ]
     },
     "execution_count": 134,
     "metadata": {},
     "output_type": "execute_result"
    }
   ],
   "source": [
    "pd.DataFrame(df_price.loc[0]).T\n",
    "\n",
    "# As we can see, the current price of these 'Bluetooth Earphones' is 16€."
   ]
  },
  {
   "cell_type": "code",
   "execution_count": 12,
   "metadata": {},
   "outputs": [
    {
     "data": {
      "text/plain": [
       "28.3"
      ]
     },
     "execution_count": 12,
     "metadata": {},
     "output_type": "execute_result"
    }
   ],
   "source": [
    "df_price[\"Prices\"].mean()\n",
    "\n",
    "# Now, we compare that price to the average product price of that market:"
   ]
  },
  {
   "cell_type": "code",
   "execution_count": 75,
   "metadata": {},
   "outputs": [
    {
     "data": {
      "text/plain": [
       "<AxesSubplot:xlabel='Prices'>"
      ]
     },
     "execution_count": 75,
     "metadata": {},
     "output_type": "execute_result"
    },
    {
     "data": {
      "image/png": "[encoded data removed]",
      "text/plain": [
       "<Figure size 432x288 with 1 Axes>"
      ]
     },
     "metadata": {
      "needs_background": "light"
     },
     "output_type": "display_data"
    }
   ],
   "source": [
    "# We plot a visualization in order to understand the mean value graphically and the range of prices for the\n",
    "# 'Bluetooth Earphones' product market.\n",
    "sns.boxplot(x=\"Prices\", data=df_price)"
   ]
  },
  {
   "cell_type": "markdown",
   "metadata": {},
   "source": [
    "From this we can conclude that the best seller 'Bluetooth Earphone' is almost half the price than the mean prices\n",
    "of the dataset. So usually people tends to buy cheaper brands even if they may not be very well known, probably\n",
    "trusting the reviews that are referenced in the product web page.\n",
    "\n",
    "We have to check if that observation is also given in the 'Wired Earphones' dataset:"
   ]
  },
  {
   "cell_type": "code",
   "execution_count": 54,
   "metadata": {
    "scrolled": true
   },
   "outputs": [
    {
     "data": {
      "text/html": [
       "<div>\n",
       "<style scoped>\n",
       "    .dataframe tbody tr th:only-of-type {\n",
       "        vertical-align: middle;\n",
       "    }\n",
       "\n",
       "    .dataframe tbody tr th {\n",
       "        vertical-align: top;\n",
       "    }\n",
       "\n",
       "    .dataframe thead th {\n",
       "        text-align: right;\n",
       "    }\n",
       "</style>\n",
       "<table border=\"1\" class=\"dataframe\">\n",
       "  <thead>\n",
       "    <tr style=\"text-align: right;\">\n",
       "      <th></th>\n",
       "      <th>ReviewStar</th>\n",
       "      <th>count</th>\n",
       "      <th>product</th>\n",
       "    </tr>\n",
       "  </thead>\n",
       "  <tbody>\n",
       "    <tr>\n",
       "      <th>15</th>\n",
       "      <td>5</td>\n",
       "      <td>10569</td>\n",
       "      <td>Skullcandy Ink'd 2.0</td>\n",
       "    </tr>\n",
       "  </tbody>\n",
       "</table>\n",
       "</div>"
      ],
      "text/plain": [
       "   ReviewStar  count               product\n",
       "15          5  10569  Skullcandy Ink'd 2.0"
      ]
     },
     "execution_count": 54,
     "metadata": {},
     "output_type": "execute_result"
    }
   ],
   "source": [
    "pd.DataFrame(df_wired.loc[15]).T\n",
    "\n",
    "# As we can see from the 'Wired Earphones' dataset, the 'Skullcandys' are by far the most reviewed, therefore the\n",
    "# best seller in this dataset."
   ]
  },
  {
   "cell_type": "code",
   "execution_count": 56,
   "metadata": {},
   "outputs": [
    {
     "data": {
      "text/html": [
       "<div>\n",
       "<style scoped>\n",
       "    .dataframe tbody tr th:only-of-type {\n",
       "        vertical-align: middle;\n",
       "    }\n",
       "\n",
       "    .dataframe tbody tr th {\n",
       "        vertical-align: top;\n",
       "    }\n",
       "\n",
       "    .dataframe thead th {\n",
       "        text-align: right;\n",
       "    }\n",
       "</style>\n",
       "<table border=\"1\" class=\"dataframe\">\n",
       "  <thead>\n",
       "    <tr style=\"text-align: right;\">\n",
       "      <th></th>\n",
       "      <th>product</th>\n",
       "      <th>prices</th>\n",
       "    </tr>\n",
       "  </thead>\n",
       "  <tbody>\n",
       "    <tr>\n",
       "      <th>3</th>\n",
       "      <td>Skullcandy Ink'd 2.0</td>\n",
       "      <td>23</td>\n",
       "    </tr>\n",
       "  </tbody>\n",
       "</table>\n",
       "</div>"
      ],
      "text/plain": [
       "                product prices\n",
       "3  Skullcandy Ink'd 2.0     23"
      ]
     },
     "execution_count": 56,
     "metadata": {},
     "output_type": "execute_result"
    }
   ],
   "source": [
    "pd.DataFrame(df_wired_price.loc[3]).T\n",
    "\n",
    "# The current price of these 'Bluetooth Earphones' is 23€."
   ]
  },
  {
   "cell_type": "code",
   "execution_count": 46,
   "metadata": {},
   "outputs": [
    {
     "data": {
      "text/plain": [
       "24.5"
      ]
     },
     "execution_count": 46,
     "metadata": {},
     "output_type": "execute_result"
    }
   ],
   "source": [
    "df_wired_price[\"prices\"].mean()\n",
    "\n",
    "# Now, we also compare that price to the average product price of that market:"
   ]
  },
  {
   "cell_type": "code",
   "execution_count": 131,
   "metadata": {},
   "outputs": [
    {
     "data": {
      "text/plain": [
       "<AxesSubplot:xlabel='prices'>"
      ]
     },
     "execution_count": 131,
     "metadata": {},
     "output_type": "execute_result"
    },
    {
     "data": {
      "image/png": "[encoded data removed]",
      "text/plain": [
       "<Figure size 432x288 with 1 Axes>"
      ]
     },
     "metadata": {
      "needs_background": "light"
     },
     "output_type": "display_data"
    }
   ],
   "source": [
    "# We also plot a visualization to see the mean value graphically and the range of prices for the 'Wired Earphones'.\n",
    "\n",
    "sns.boxplot(x=\"prices\", data=df_wired_price, color='g')"
   ]
  },
  {
   "cell_type": "markdown",
   "metadata": {},
   "source": [
    "From this data we can observe that the best seller 'Wired Earphones' is almost the same price as the mean prices of\n",
    "the dataset. So we may conclude that people tends to buy headphones with medium quality rather than the cheaper ones\n",
    "that are close to the mean values of the market."
   ]
  },
  {
   "cell_type": "markdown",
   "metadata": {},
   "source": [
    "#### The conclusion on this first aspect of the hypothesis is that:\n",
    "Based on the data we've accumulated, people on the 'Bluetooth Earphones' market prefers to go to cheaper devices than the people in the 'Wired Earphones' market. Maybe this is so because of a product that has good quality/price relationship based on the many good reviews in its web page or maybe this is so because people simply tend to spend more money in wired earphones than bluetooth earphones."
   ]
  },
  {
   "cell_type": "markdown",
   "metadata": {},
   "source": [
    "# -"
   ]
  },
  {
   "cell_type": "code",
   "execution_count": null,
   "metadata": {},
   "outputs": [],
   "source": [
    "# We will proceed to visualize this data in order to understand this better."
   ]
  },
  {
   "cell_type": "code",
   "execution_count": 112,
   "metadata": {},
   "outputs": [
    {
     "data": {
      "text/plain": [
       "<AxesSubplot:xlabel='ProductShortName'>"
      ]
     },
     "execution_count": 112,
     "metadata": {},
     "output_type": "execute_result"
    },
    {
     "data": {
      "image/png": "[encoded data removed]",
      "text/plain": [
       "<Figure size 432x288 with 1 Axes>"
      ]
     },
     "metadata": {
      "needs_background": "light"
     },
     "output_type": "display_data"
    }
   ],
   "source": [
    "# We plot all the 'Bluetooth Earphones' products first in relationship with its prices.\n",
    "\n",
    "df_price.plot(kind='bar', x='ProductShortName', y='Prices')"
   ]
  },
  {
   "cell_type": "code",
   "execution_count": 130,
   "metadata": {},
   "outputs": [
    {
     "data": {
      "text/plain": [
       "<AxesSubplot:xlabel='product'>"
      ]
     },
     "execution_count": 130,
     "metadata": {},
     "output_type": "execute_result"
    },
    {
     "data": {
      "image/png": "[encoded data removed]",
      "text/plain": [
       "<Figure size 432x288 with 1 Axes>"
      ]
     },
     "metadata": {
      "needs_background": "light"
     },
     "output_type": "display_data"
    }
   ],
   "source": [
    "# And then we plot all the 'Wired Earphones' products in relationship with its prices.\n",
    "\n",
    "df_wired_price.plot(kind='bar', x='product', y='prices', color='g')"
   ]
  },
  {
   "cell_type": "markdown",
   "metadata": {},
   "source": [
    "#### The conclusion on the second aspect of the hypothesis is that:\n",
    "By the same average output that we obtained before, we can check the second aspect of our hypothesis and deduct also that 'Bluetooth Earphones' are a little more expensive than 'Wired Earphones', but our two datasets are very limited in samples to get a pretty solid conclusion in this aspect.\n",
    "We would need to analyze hundreds if not thousands of products in both markets to observe and assess any valid proofs."
   ]
  },
  {
   "cell_type": "markdown",
   "metadata": {},
   "source": [
    "# -"
   ]
  },
  {
   "cell_type": "markdown",
   "metadata": {},
   "source": [
    "Finally, our third step of the hypothesis is to find which of the two kinds are more popular/selled than the other based on number of reviews as a measure of popularity."
   ]
  },
  {
   "cell_type": "code",
   "execution_count": 137,
   "metadata": {},
   "outputs": [
    {
     "name": "stdout",
     "output_type": "stream",
     "text": [
      "Total number of reviews:  14337\n"
     ]
    }
   ],
   "source": [
    "# We print the number of sells based on reviews that 'Bluetooth Earphones' have scored.\n",
    "\n",
    "print('Total number of reviews: ', df[\"Product\"].value_counts().sum())"
   ]
  },
  {
   "cell_type": "code",
   "execution_count": 127,
   "metadata": {},
   "outputs": [
    {
     "name": "stdout",
     "output_type": "stream",
     "text": [
      "Total number of reviews:  26890\n"
     ]
    }
   ],
   "source": [
    "# We also print the number of sells based on reviews that 'Wired Earphones' have scored.\n",
    "\n",
    "print('Total number of reviews: ', df_wired[\"count\"].sum())"
   ]
  },
  {
   "cell_type": "markdown",
   "metadata": {},
   "source": [
    "#### The conclusion on the third and last aspect of the hypothesis is that:\n",
    "Based on the limited data that we possess, we can disproof that 'Bluetooth Earphones' are sold in a higher quantity than 'Wired Earphones'. This may be so because good 'Bluetooth Earphones' can be more expensive based on the data that we observed before and maybe also because people still prefer a deviced that doesn't need to be charged, or more easily lost, more traditional, etc."
   ]
  }
 ],
 "metadata": {
  "kernelspec": {
   "display_name": "Python 3",
   "language": "python",
   "name": "python3"
  },
  "language_info": {
   "codemirror_mode": {
    "name": "ipython",
    "version": 3
   },
   "file_extension": ".py",
   "mimetype": "text/x-python",
   "name": "python",
   "nbconvert_exporter": "python",
   "pygments_lexer": "ipython3",
   "version": "3.8.5"
  }
 },
 "nbformat": 4,
 "nbformat_minor": 4
}
