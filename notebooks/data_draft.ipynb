{
 "cells": [
  {
   "cell_type": "code",
   "execution_count": 6,
   "metadata": {},
   "outputs": [],
   "source": [
    "import pandas as pd\n",
    "import numpy as np\n",
    "import regex as re\n",
    "pd.set_option(\"display.max_columns\", 120)"
   ]
  },
  {
   "cell_type": "markdown",
   "metadata": {},
   "source": [
    "# Hypothesis:\n",
    "\n",
    "First we want to confirm the top selled headphones from both sides (based on the quantity of reviews) are usually cheaper than the mean price, in order to see what people value most in both markets.\n",
    "Also we want to proof that wireless/bluetooth earphones are more expensive than wired earphones, and that they are more popular/selled than the other kind based on number of reviews as a measure of popularity."
   ]
  },
  {
   "cell_type": "code",
   "execution_count": 7,
   "metadata": {},
   "outputs": [
    {
     "data": {
      "text/html": [
       "<div>\n",
       "<style scoped>\n",
       "    .dataframe tbody tr th:only-of-type {\n",
       "        vertical-align: middle;\n",
       "    }\n",
       "\n",
       "    .dataframe tbody tr th {\n",
       "        vertical-align: top;\n",
       "    }\n",
       "\n",
       "    .dataframe thead th {\n",
       "        text-align: right;\n",
       "    }\n",
       "</style>\n",
       "<table border=\"1\" class=\"dataframe\">\n",
       "  <thead>\n",
       "    <tr style=\"text-align: right;\">\n",
       "      <th></th>\n",
       "      <th>ReviewTitle</th>\n",
       "      <th>ReviewBody</th>\n",
       "      <th>ReviewStar</th>\n",
       "      <th>Product</th>\n",
       "    </tr>\n",
       "  </thead>\n",
       "  <tbody>\n",
       "    <tr>\n",
       "      <th>0</th>\n",
       "      <td>Honest review of an edm music lover\\n</td>\n",
       "      <td>No doubt it has a great bass and to a great ex...</td>\n",
       "      <td>3</td>\n",
       "      <td>boAt Rockerz 255</td>\n",
       "    </tr>\n",
       "    <tr>\n",
       "      <th>1</th>\n",
       "      <td>Unreliable earphones with high cost\\n</td>\n",
       "      <td>This  earphones are unreliable, i bought it be...</td>\n",
       "      <td>1</td>\n",
       "      <td>boAt Rockerz 255</td>\n",
       "    </tr>\n",
       "    <tr>\n",
       "      <th>2</th>\n",
       "      <td>Really good and durable.\\n</td>\n",
       "      <td>i bought itfor 999,I purchased it second time,...</td>\n",
       "      <td>4</td>\n",
       "      <td>boAt Rockerz 255</td>\n",
       "    </tr>\n",
       "    <tr>\n",
       "      <th>3</th>\n",
       "      <td>stopped working in just 14 days\\n</td>\n",
       "      <td>Its sound quality is adorable. overall it was ...</td>\n",
       "      <td>1</td>\n",
       "      <td>boAt Rockerz 255</td>\n",
       "    </tr>\n",
       "    <tr>\n",
       "      <th>4</th>\n",
       "      <td>Just Awesome Wireless Headphone under 1000...😉\\n</td>\n",
       "      <td>Its Awesome... Good sound quality &amp; 8-9 hrs ba...</td>\n",
       "      <td>5</td>\n",
       "      <td>boAt Rockerz 255</td>\n",
       "    </tr>\n",
       "    <tr>\n",
       "      <th>...</th>\n",
       "      <td>...</td>\n",
       "      <td>...</td>\n",
       "      <td>...</td>\n",
       "      <td>...</td>\n",
       "    </tr>\n",
       "    <tr>\n",
       "      <th>14332</th>\n",
       "      <td>Good\\n</td>\n",
       "      <td>Good\\n</td>\n",
       "      <td>4</td>\n",
       "      <td>JBL T110BT</td>\n",
       "    </tr>\n",
       "    <tr>\n",
       "      <th>14333</th>\n",
       "      <td>Amazing Product\\n</td>\n",
       "      <td>An amazing product but a bit costly.\\n</td>\n",
       "      <td>5</td>\n",
       "      <td>JBL T110BT</td>\n",
       "    </tr>\n",
       "    <tr>\n",
       "      <th>14334</th>\n",
       "      <td>Not bad\\n</td>\n",
       "      <td>Sound\\n</td>\n",
       "      <td>1</td>\n",
       "      <td>JBL T110BT</td>\n",
       "    </tr>\n",
       "    <tr>\n",
       "      <th>14335</th>\n",
       "      <td>a good product\\n</td>\n",
       "      <td>the sound is good battery life is good but the...</td>\n",
       "      <td>5</td>\n",
       "      <td>JBL T110BT</td>\n",
       "    </tr>\n",
       "    <tr>\n",
       "      <th>14336</th>\n",
       "      <td>Average headphones , n overrated name\\n</td>\n",
       "      <td>M writing this review after using for almost 7...</td>\n",
       "      <td>1</td>\n",
       "      <td>JBL T110BT</td>\n",
       "    </tr>\n",
       "  </tbody>\n",
       "</table>\n",
       "<p>14337 rows × 4 columns</p>\n",
       "</div>"
      ],
      "text/plain": [
       "                                            ReviewTitle  \\\n",
       "0                 Honest review of an edm music lover\\n   \n",
       "1                 Unreliable earphones with high cost\\n   \n",
       "2                            Really good and durable.\\n   \n",
       "3                     stopped working in just 14 days\\n   \n",
       "4      Just Awesome Wireless Headphone under 1000...😉\\n   \n",
       "...                                                 ...   \n",
       "14332                                            Good\\n   \n",
       "14333                                 Amazing Product\\n   \n",
       "14334                                         Not bad\\n   \n",
       "14335                                  a good product\\n   \n",
       "14336           Average headphones , n overrated name\\n   \n",
       "\n",
       "                                              ReviewBody  ReviewStar  \\\n",
       "0      No doubt it has a great bass and to a great ex...           3   \n",
       "1      This  earphones are unreliable, i bought it be...           1   \n",
       "2      i bought itfor 999,I purchased it second time,...           4   \n",
       "3      Its sound quality is adorable. overall it was ...           1   \n",
       "4      Its Awesome... Good sound quality & 8-9 hrs ba...           5   \n",
       "...                                                  ...         ...   \n",
       "14332                                             Good\\n           4   \n",
       "14333             An amazing product but a bit costly.\\n           5   \n",
       "14334                                            Sound\\n           1   \n",
       "14335  the sound is good battery life is good but the...           5   \n",
       "14336  M writing this review after using for almost 7...           1   \n",
       "\n",
       "                Product  \n",
       "0      boAt Rockerz 255  \n",
       "1      boAt Rockerz 255  \n",
       "2      boAt Rockerz 255  \n",
       "3      boAt Rockerz 255  \n",
       "4      boAt Rockerz 255  \n",
       "...                 ...  \n",
       "14332        JBL T110BT  \n",
       "14333        JBL T110BT  \n",
       "14334        JBL T110BT  \n",
       "14335        JBL T110BT  \n",
       "14336        JBL T110BT  \n",
       "\n",
       "[14337 rows x 4 columns]"
      ]
     },
     "execution_count": 7,
     "metadata": {},
     "output_type": "execute_result"
    }
   ],
   "source": [
    "df = pd.read_csv('../Data/AllProductReviews.csv')\n",
    "df"
   ]
  },
  {
   "cell_type": "code",
   "execution_count": 11,
   "metadata": {},
   "outputs": [
    {
     "name": "stdout",
     "output_type": "stream",
     "text": [
      "<class 'pandas.core.frame.DataFrame'>\n",
      "RangeIndex: 14337 entries, 0 to 14336\n",
      "Data columns (total 4 columns):\n",
      " #   Column       Non-Null Count  Dtype \n",
      "---  ------       --------------  ----- \n",
      " 0   ReviewTitle  14337 non-null  object\n",
      " 1   ReviewBody   14337 non-null  object\n",
      " 2   ReviewStar   14337 non-null  int64 \n",
      " 3   Product      14337 non-null  object\n",
      "dtypes: int64(1), object(3)\n",
      "memory usage: 448.2+ KB\n"
     ]
    }
   ],
   "source": [
    "df.info()"
   ]
  },
  {
   "cell_type": "code",
   "execution_count": 14,
   "metadata": {},
   "outputs": [
    {
     "data": {
      "text/plain": [
       "count                14337\n",
       "unique                  10\n",
       "top       boAt Rockerz 255\n",
       "freq                  5000\n",
       "Name: Product, dtype: object"
      ]
     },
     "execution_count": 14,
     "metadata": {},
     "output_type": "execute_result"
    }
   ],
   "source": [
    "df[\"Product\"].describe()\n",
    "# For what we can see, the top seller are the 'boAt Rockerz 255'."
   ]
  },
  {
   "cell_type": "code",
   "execution_count": 16,
   "metadata": {},
   "outputs": [
    {
     "data": {
      "text/plain": [
       "count      14337\n",
       "unique      9342\n",
       "top       Good\\n\n",
       "freq         428\n",
       "Name: ReviewTitle, dtype: object"
      ]
     },
     "execution_count": 16,
     "metadata": {},
     "output_type": "execute_result"
    }
   ],
   "source": [
    "df[\"ReviewTitle\"].describe()"
   ]
  },
  {
   "cell_type": "code",
   "execution_count": 17,
   "metadata": {},
   "outputs": [
    {
     "data": {
      "text/plain": [
       "count      14337\n",
       "unique     13012\n",
       "top       Good\\n\n",
       "freq         242\n",
       "Name: ReviewBody, dtype: object"
      ]
     },
     "execution_count": 17,
     "metadata": {},
     "output_type": "execute_result"
    }
   ],
   "source": [
    "df[\"ReviewBody\"].describe()"
   ]
  },
  {
   "cell_type": "code",
   "execution_count": 20,
   "metadata": {},
   "outputs": [
    {
     "data": {
      "text/plain": [
       "count    14337.000000\n",
       "mean         3.675874\n",
       "std          1.503409\n",
       "min          1.000000\n",
       "25%          3.000000\n",
       "50%          4.000000\n",
       "75%          5.000000\n",
       "max          5.000000\n",
       "Name: ReviewStar, dtype: float64"
      ]
     },
     "execution_count": 20,
     "metadata": {},
     "output_type": "execute_result"
    }
   ],
   "source": [
    "df['ReviewStar'].describe()"
   ]
  },
  {
   "cell_type": "code",
   "execution_count": 86,
   "metadata": {},
   "outputs": [
    {
     "data": {
      "text/html": [
       "<div>\n",
       "<style scoped>\n",
       "    .dataframe tbody tr th:only-of-type {\n",
       "        vertical-align: middle;\n",
       "    }\n",
       "\n",
       "    .dataframe tbody tr th {\n",
       "        vertical-align: top;\n",
       "    }\n",
       "\n",
       "    .dataframe thead th {\n",
       "        text-align: right;\n",
       "    }\n",
       "</style>\n",
       "<table border=\"1\" class=\"dataframe\">\n",
       "  <thead>\n",
       "    <tr style=\"text-align: right;\">\n",
       "      <th></th>\n",
       "      <th>MRP</th>\n",
       "      <th>Price</th>\n",
       "      <th>ProductFullName</th>\n",
       "      <th>ProductShortName</th>\n",
       "      <th>ReviewURL</th>\n",
       "      <th>id</th>\n",
       "    </tr>\n",
       "  </thead>\n",
       "  <tbody>\n",
       "    <tr>\n",
       "      <th>0</th>\n",
       "      <td>2990</td>\n",
       "      <td>1399</td>\n",
       "      <td>boAt Rockerz 255 Sports Bluetooth Wireless Ear...</td>\n",
       "      <td>boAt Rockerz 255</td>\n",
       "      <td>https://www.amazon.in/255-Bluetooth-Wireless-E...</td>\n",
       "      <td>1</td>\n",
       "    </tr>\n",
       "    <tr>\n",
       "      <th>1</th>\n",
       "      <td>3999</td>\n",
       "      <td>1099</td>\n",
       "      <td>Flybot Wave in-Ear Sport Wireless Bluetooth Ea...</td>\n",
       "      <td>Flybot Wave</td>\n",
       "      <td>https://www.amazon.in/Flybot-Wireless-Bluetoot...</td>\n",
       "      <td>2</td>\n",
       "    </tr>\n",
       "    <tr>\n",
       "      <th>2</th>\n",
       "      <td>3999</td>\n",
       "      <td>1099</td>\n",
       "      <td>Flybot Boom Deep Bass in-Ear Wireless Bluetoot...</td>\n",
       "      <td>Flybot Boom</td>\n",
       "      <td>https://www.amazon.in/Flybot-Wireless-Bluetoot...</td>\n",
       "      <td>3</td>\n",
       "    </tr>\n",
       "    <tr>\n",
       "      <th>3</th>\n",
       "      <td>2000</td>\n",
       "      <td>749</td>\n",
       "      <td>PTron Intunes Pro Headphone Magnetic Earphone ...</td>\n",
       "      <td>PTron Intunes</td>\n",
       "      <td>https://www.amazon.in/PTron-Intunes-Pro-Smartp...</td>\n",
       "      <td>4</td>\n",
       "    </tr>\n",
       "    <tr>\n",
       "      <th>4</th>\n",
       "      <td>5999</td>\n",
       "      <td>2999</td>\n",
       "      <td>Flybot Beat True Wireless Bluetooth Earphones ...</td>\n",
       "      <td>Flybot Beat</td>\n",
       "      <td>https://www.amazon.in/Flybot-Wireless-Bluetoot...</td>\n",
       "      <td>5</td>\n",
       "    </tr>\n",
       "    <tr>\n",
       "      <th>5</th>\n",
       "      <td>3799</td>\n",
       "      <td>3190</td>\n",
       "      <td>Samsung EO-BG950CBEGIN Bluetooth Wireless in-E...</td>\n",
       "      <td>Samsung EO-BG950CBEIN</td>\n",
       "      <td>https://www.amazon.in/Samsung-EO-BG950CBEGIN-B...</td>\n",
       "      <td>6</td>\n",
       "    </tr>\n",
       "    <tr>\n",
       "      <th>6</th>\n",
       "      <td>2999</td>\n",
       "      <td>1999</td>\n",
       "      <td>JBL T205BT Pure Bass Wireless Metal Earbud Hea...</td>\n",
       "      <td>JBL T205BT</td>\n",
       "      <td>https://www.amazon.in/JBL-T205BT-Wireless-Earb...</td>\n",
       "      <td>7</td>\n",
       "    </tr>\n",
       "    <tr>\n",
       "      <th>7</th>\n",
       "      <td>7490</td>\n",
       "      <td>6499</td>\n",
       "      <td>Sennheiser CX 6.0BT 507447 in Ear Wireless Ear...</td>\n",
       "      <td>Sennheiser CX 6.0BT</td>\n",
       "      <td>https://www.amazon.in/Sennheiser-CX-507447-Wir...</td>\n",
       "      <td>8</td>\n",
       "    </tr>\n",
       "    <tr>\n",
       "      <th>8</th>\n",
       "      <td>5299</td>\n",
       "      <td>3699</td>\n",
       "      <td>Skullcandy S2PGHW-174 in-Ear Wireless Headphon...</td>\n",
       "      <td>Skullcandy S2PGHW-174</td>\n",
       "      <td>https://www.amazon.in/Skullcandy-S2PGHW-174-Wi...</td>\n",
       "      <td>9</td>\n",
       "    </tr>\n",
       "    <tr>\n",
       "      <th>9</th>\n",
       "      <td>2259</td>\n",
       "      <td>2000</td>\n",
       "      <td>JBL T110BT Pure Bass Wireless in-Ear Headphone...</td>\n",
       "      <td>JBL T110BT</td>\n",
       "      <td>https://www.amazon.in/JBL-T110BT-Wireless-Head...</td>\n",
       "      <td>10</td>\n",
       "    </tr>\n",
       "  </tbody>\n",
       "</table>\n",
       "</div>"
      ],
      "text/plain": [
       "    MRP  Price                                    ProductFullName  \\\n",
       "0  2990   1399  boAt Rockerz 255 Sports Bluetooth Wireless Ear...   \n",
       "1  3999   1099  Flybot Wave in-Ear Sport Wireless Bluetooth Ea...   \n",
       "2  3999   1099  Flybot Boom Deep Bass in-Ear Wireless Bluetoot...   \n",
       "3  2000    749  PTron Intunes Pro Headphone Magnetic Earphone ...   \n",
       "4  5999   2999  Flybot Beat True Wireless Bluetooth Earphones ...   \n",
       "5  3799   3190  Samsung EO-BG950CBEGIN Bluetooth Wireless in-E...   \n",
       "6  2999   1999  JBL T205BT Pure Bass Wireless Metal Earbud Hea...   \n",
       "7  7490   6499  Sennheiser CX 6.0BT 507447 in Ear Wireless Ear...   \n",
       "8  5299   3699  Skullcandy S2PGHW-174 in-Ear Wireless Headphon...   \n",
       "9  2259   2000  JBL T110BT Pure Bass Wireless in-Ear Headphone...   \n",
       "\n",
       "        ProductShortName                                          ReviewURL  \\\n",
       "0       boAt Rockerz 255  https://www.amazon.in/255-Bluetooth-Wireless-E...   \n",
       "1            Flybot Wave  https://www.amazon.in/Flybot-Wireless-Bluetoot...   \n",
       "2            Flybot Boom  https://www.amazon.in/Flybot-Wireless-Bluetoot...   \n",
       "3          PTron Intunes  https://www.amazon.in/PTron-Intunes-Pro-Smartp...   \n",
       "4            Flybot Beat  https://www.amazon.in/Flybot-Wireless-Bluetoot...   \n",
       "5  Samsung EO-BG950CBEIN  https://www.amazon.in/Samsung-EO-BG950CBEGIN-B...   \n",
       "6             JBL T205BT  https://www.amazon.in/JBL-T205BT-Wireless-Earb...   \n",
       "7    Sennheiser CX 6.0BT  https://www.amazon.in/Sennheiser-CX-507447-Wir...   \n",
       "8  Skullcandy S2PGHW-174  https://www.amazon.in/Skullcandy-S2PGHW-174-Wi...   \n",
       "9             JBL T110BT  https://www.amazon.in/JBL-T110BT-Wireless-Head...   \n",
       "\n",
       "   id  \n",
       "0   1  \n",
       "1   2  \n",
       "2   3  \n",
       "3   4  \n",
       "4   5  \n",
       "5   6  \n",
       "6   7  \n",
       "7   8  \n",
       "8   9  \n",
       "9  10  "
      ]
     },
     "execution_count": 86,
     "metadata": {},
     "output_type": "execute_result"
    }
   ],
   "source": [
    "df_products = pd.read_csv('../Data/ProductInfo.csv')\n",
    "df_products"
   ]
  },
  {
   "cell_type": "code",
   "execution_count": 87,
   "metadata": {},
   "outputs": [
    {
     "data": {
      "text/html": [
       "<div>\n",
       "<style scoped>\n",
       "    .dataframe tbody tr th:only-of-type {\n",
       "        vertical-align: middle;\n",
       "    }\n",
       "\n",
       "    .dataframe tbody tr th {\n",
       "        vertical-align: top;\n",
       "    }\n",
       "\n",
       "    .dataframe thead th {\n",
       "        text-align: right;\n",
       "    }\n",
       "</style>\n",
       "<table border=\"1\" class=\"dataframe\">\n",
       "  <thead>\n",
       "    <tr style=\"text-align: right;\">\n",
       "      <th></th>\n",
       "      <th>MRP</th>\n",
       "      <th>Price</th>\n",
       "      <th>ProductFullName</th>\n",
       "      <th>ProductShortName</th>\n",
       "      <th>ReviewURL</th>\n",
       "    </tr>\n",
       "  </thead>\n",
       "  <tbody>\n",
       "    <tr>\n",
       "      <th>0</th>\n",
       "      <td>2990</td>\n",
       "      <td>1399</td>\n",
       "      <td>boAt Rockerz 255 Sports Bluetooth Wireless Ear...</td>\n",
       "      <td>boAt Rockerz 255</td>\n",
       "      <td>https://www.amazon.in/255-Bluetooth-Wireless-E...</td>\n",
       "    </tr>\n",
       "    <tr>\n",
       "      <th>1</th>\n",
       "      <td>3999</td>\n",
       "      <td>1099</td>\n",
       "      <td>Flybot Wave in-Ear Sport Wireless Bluetooth Ea...</td>\n",
       "      <td>Flybot Wave</td>\n",
       "      <td>https://www.amazon.in/Flybot-Wireless-Bluetoot...</td>\n",
       "    </tr>\n",
       "    <tr>\n",
       "      <th>2</th>\n",
       "      <td>3999</td>\n",
       "      <td>1099</td>\n",
       "      <td>Flybot Boom Deep Bass in-Ear Wireless Bluetoot...</td>\n",
       "      <td>Flybot Boom</td>\n",
       "      <td>https://www.amazon.in/Flybot-Wireless-Bluetoot...</td>\n",
       "    </tr>\n",
       "    <tr>\n",
       "      <th>3</th>\n",
       "      <td>2000</td>\n",
       "      <td>749</td>\n",
       "      <td>PTron Intunes Pro Headphone Magnetic Earphone ...</td>\n",
       "      <td>PTron Intunes</td>\n",
       "      <td>https://www.amazon.in/PTron-Intunes-Pro-Smartp...</td>\n",
       "    </tr>\n",
       "    <tr>\n",
       "      <th>4</th>\n",
       "      <td>5999</td>\n",
       "      <td>2999</td>\n",
       "      <td>Flybot Beat True Wireless Bluetooth Earphones ...</td>\n",
       "      <td>Flybot Beat</td>\n",
       "      <td>https://www.amazon.in/Flybot-Wireless-Bluetoot...</td>\n",
       "    </tr>\n",
       "    <tr>\n",
       "      <th>5</th>\n",
       "      <td>3799</td>\n",
       "      <td>3190</td>\n",
       "      <td>Samsung EO-BG950CBEGIN Bluetooth Wireless in-E...</td>\n",
       "      <td>Samsung EO-BG950CBEIN</td>\n",
       "      <td>https://www.amazon.in/Samsung-EO-BG950CBEGIN-B...</td>\n",
       "    </tr>\n",
       "    <tr>\n",
       "      <th>6</th>\n",
       "      <td>2999</td>\n",
       "      <td>1999</td>\n",
       "      <td>JBL T205BT Pure Bass Wireless Metal Earbud Hea...</td>\n",
       "      <td>JBL T205BT</td>\n",
       "      <td>https://www.amazon.in/JBL-T205BT-Wireless-Earb...</td>\n",
       "    </tr>\n",
       "    <tr>\n",
       "      <th>7</th>\n",
       "      <td>7490</td>\n",
       "      <td>6499</td>\n",
       "      <td>Sennheiser CX 6.0BT 507447 in Ear Wireless Ear...</td>\n",
       "      <td>Sennheiser CX 6.0BT</td>\n",
       "      <td>https://www.amazon.in/Sennheiser-CX-507447-Wir...</td>\n",
       "    </tr>\n",
       "    <tr>\n",
       "      <th>8</th>\n",
       "      <td>5299</td>\n",
       "      <td>3699</td>\n",
       "      <td>Skullcandy S2PGHW-174 in-Ear Wireless Headphon...</td>\n",
       "      <td>Skullcandy S2PGHW-174</td>\n",
       "      <td>https://www.amazon.in/Skullcandy-S2PGHW-174-Wi...</td>\n",
       "    </tr>\n",
       "    <tr>\n",
       "      <th>9</th>\n",
       "      <td>2259</td>\n",
       "      <td>2000</td>\n",
       "      <td>JBL T110BT Pure Bass Wireless in-Ear Headphone...</td>\n",
       "      <td>JBL T110BT</td>\n",
       "      <td>https://www.amazon.in/JBL-T110BT-Wireless-Head...</td>\n",
       "    </tr>\n",
       "  </tbody>\n",
       "</table>\n",
       "</div>"
      ],
      "text/plain": [
       "    MRP  Price                                    ProductFullName  \\\n",
       "0  2990   1399  boAt Rockerz 255 Sports Bluetooth Wireless Ear...   \n",
       "1  3999   1099  Flybot Wave in-Ear Sport Wireless Bluetooth Ea...   \n",
       "2  3999   1099  Flybot Boom Deep Bass in-Ear Wireless Bluetoot...   \n",
       "3  2000    749  PTron Intunes Pro Headphone Magnetic Earphone ...   \n",
       "4  5999   2999  Flybot Beat True Wireless Bluetooth Earphones ...   \n",
       "5  3799   3190  Samsung EO-BG950CBEGIN Bluetooth Wireless in-E...   \n",
       "6  2999   1999  JBL T205BT Pure Bass Wireless Metal Earbud Hea...   \n",
       "7  7490   6499  Sennheiser CX 6.0BT 507447 in Ear Wireless Ear...   \n",
       "8  5299   3699  Skullcandy S2PGHW-174 in-Ear Wireless Headphon...   \n",
       "9  2259   2000  JBL T110BT Pure Bass Wireless in-Ear Headphone...   \n",
       "\n",
       "        ProductShortName                                          ReviewURL  \n",
       "0       boAt Rockerz 255  https://www.amazon.in/255-Bluetooth-Wireless-E...  \n",
       "1            Flybot Wave  https://www.amazon.in/Flybot-Wireless-Bluetoot...  \n",
       "2            Flybot Boom  https://www.amazon.in/Flybot-Wireless-Bluetoot...  \n",
       "3          PTron Intunes  https://www.amazon.in/PTron-Intunes-Pro-Smartp...  \n",
       "4            Flybot Beat  https://www.amazon.in/Flybot-Wireless-Bluetoot...  \n",
       "5  Samsung EO-BG950CBEIN  https://www.amazon.in/Samsung-EO-BG950CBEGIN-B...  \n",
       "6             JBL T205BT  https://www.amazon.in/JBL-T205BT-Wireless-Earb...  \n",
       "7    Sennheiser CX 6.0BT  https://www.amazon.in/Sennheiser-CX-507447-Wir...  \n",
       "8  Skullcandy S2PGHW-174  https://www.amazon.in/Skullcandy-S2PGHW-174-Wi...  \n",
       "9             JBL T110BT  https://www.amazon.in/JBL-T110BT-Wireless-Head...  "
      ]
     },
     "execution_count": 87,
     "metadata": {},
     "output_type": "execute_result"
    }
   ],
   "source": [
    "#We drop the 'id' column as its not needed at all.\n",
    "df_products.drop([\"id\"], axis=1, inplace=True)\n",
    "df_products"
   ]
  },
  {
   "cell_type": "code",
   "execution_count": 88,
   "metadata": {},
   "outputs": [
    {
     "data": {
      "text/html": [
       "<div>\n",
       "<style scoped>\n",
       "    .dataframe tbody tr th:only-of-type {\n",
       "        vertical-align: middle;\n",
       "    }\n",
       "\n",
       "    .dataframe tbody tr th {\n",
       "        vertical-align: top;\n",
       "    }\n",
       "\n",
       "    .dataframe thead th {\n",
       "        text-align: right;\n",
       "    }\n",
       "</style>\n",
       "<table border=\"1\" class=\"dataframe\">\n",
       "  <thead>\n",
       "    <tr style=\"text-align: right;\">\n",
       "      <th></th>\n",
       "      <th>MRP</th>\n",
       "      <th>Price</th>\n",
       "      <th>ProductFullName</th>\n",
       "      <th>ProductShortName</th>\n",
       "    </tr>\n",
       "  </thead>\n",
       "  <tbody>\n",
       "    <tr>\n",
       "      <th>0</th>\n",
       "      <td>2990</td>\n",
       "      <td>1399</td>\n",
       "      <td>boAt Rockerz 255 Sports Bluetooth Wireless Ear...</td>\n",
       "      <td>boAt Rockerz 255</td>\n",
       "    </tr>\n",
       "    <tr>\n",
       "      <th>1</th>\n",
       "      <td>3999</td>\n",
       "      <td>1099</td>\n",
       "      <td>Flybot Wave in-Ear Sport Wireless Bluetooth Ea...</td>\n",
       "      <td>Flybot Wave</td>\n",
       "    </tr>\n",
       "    <tr>\n",
       "      <th>2</th>\n",
       "      <td>3999</td>\n",
       "      <td>1099</td>\n",
       "      <td>Flybot Boom Deep Bass in-Ear Wireless Bluetoot...</td>\n",
       "      <td>Flybot Boom</td>\n",
       "    </tr>\n",
       "    <tr>\n",
       "      <th>3</th>\n",
       "      <td>2000</td>\n",
       "      <td>749</td>\n",
       "      <td>PTron Intunes Pro Headphone Magnetic Earphone ...</td>\n",
       "      <td>PTron Intunes</td>\n",
       "    </tr>\n",
       "    <tr>\n",
       "      <th>4</th>\n",
       "      <td>5999</td>\n",
       "      <td>2999</td>\n",
       "      <td>Flybot Beat True Wireless Bluetooth Earphones ...</td>\n",
       "      <td>Flybot Beat</td>\n",
       "    </tr>\n",
       "    <tr>\n",
       "      <th>5</th>\n",
       "      <td>3799</td>\n",
       "      <td>3190</td>\n",
       "      <td>Samsung EO-BG950CBEGIN Bluetooth Wireless in-E...</td>\n",
       "      <td>Samsung EO-BG950CBEIN</td>\n",
       "    </tr>\n",
       "    <tr>\n",
       "      <th>6</th>\n",
       "      <td>2999</td>\n",
       "      <td>1999</td>\n",
       "      <td>JBL T205BT Pure Bass Wireless Metal Earbud Hea...</td>\n",
       "      <td>JBL T205BT</td>\n",
       "    </tr>\n",
       "    <tr>\n",
       "      <th>7</th>\n",
       "      <td>7490</td>\n",
       "      <td>6499</td>\n",
       "      <td>Sennheiser CX 6.0BT 507447 in Ear Wireless Ear...</td>\n",
       "      <td>Sennheiser CX 6.0BT</td>\n",
       "    </tr>\n",
       "    <tr>\n",
       "      <th>8</th>\n",
       "      <td>5299</td>\n",
       "      <td>3699</td>\n",
       "      <td>Skullcandy S2PGHW-174 in-Ear Wireless Headphon...</td>\n",
       "      <td>Skullcandy S2PGHW-174</td>\n",
       "    </tr>\n",
       "    <tr>\n",
       "      <th>9</th>\n",
       "      <td>2259</td>\n",
       "      <td>2000</td>\n",
       "      <td>JBL T110BT Pure Bass Wireless in-Ear Headphone...</td>\n",
       "      <td>JBL T110BT</td>\n",
       "    </tr>\n",
       "  </tbody>\n",
       "</table>\n",
       "</div>"
      ],
      "text/plain": [
       "    MRP  Price                                    ProductFullName  \\\n",
       "0  2990   1399  boAt Rockerz 255 Sports Bluetooth Wireless Ear...   \n",
       "1  3999   1099  Flybot Wave in-Ear Sport Wireless Bluetooth Ea...   \n",
       "2  3999   1099  Flybot Boom Deep Bass in-Ear Wireless Bluetoot...   \n",
       "3  2000    749  PTron Intunes Pro Headphone Magnetic Earphone ...   \n",
       "4  5999   2999  Flybot Beat True Wireless Bluetooth Earphones ...   \n",
       "5  3799   3190  Samsung EO-BG950CBEGIN Bluetooth Wireless in-E...   \n",
       "6  2999   1999  JBL T205BT Pure Bass Wireless Metal Earbud Hea...   \n",
       "7  7490   6499  Sennheiser CX 6.0BT 507447 in Ear Wireless Ear...   \n",
       "8  5299   3699  Skullcandy S2PGHW-174 in-Ear Wireless Headphon...   \n",
       "9  2259   2000  JBL T110BT Pure Bass Wireless in-Ear Headphone...   \n",
       "\n",
       "        ProductShortName  \n",
       "0       boAt Rockerz 255  \n",
       "1            Flybot Wave  \n",
       "2            Flybot Boom  \n",
       "3          PTron Intunes  \n",
       "4            Flybot Beat  \n",
       "5  Samsung EO-BG950CBEIN  \n",
       "6             JBL T205BT  \n",
       "7    Sennheiser CX 6.0BT  \n",
       "8  Skullcandy S2PGHW-174  \n",
       "9             JBL T110BT  "
      ]
     },
     "execution_count": 88,
     "metadata": {},
     "output_type": "execute_result"
    }
   ],
   "source": [
    "# As we can see from the 'ReviewURL', all the links are from the indian Amazon website, so we'll need to convert the\n",
    "# indian currency 'Price', which are 'rupias' to 'euros'.\n",
    "# Now that we know that, we don't need than column anymore.\n",
    "df_products.drop([\"ReviewURL\"], axis=1, inplace=True)\n",
    "df_products"
   ]
  },
  {
   "cell_type": "code",
   "execution_count": 89,
   "metadata": {},
   "outputs": [
    {
     "data": {
      "text/plain": [
       "count      10.000000\n",
       "mean     2473.200000\n",
       "std      1727.307655\n",
       "min       749.000000\n",
       "25%      1174.000000\n",
       "50%      1999.500000\n",
       "75%      3142.250000\n",
       "max      6499.000000\n",
       "Name: Price, dtype: float64"
      ]
     },
     "execution_count": 89,
     "metadata": {},
     "output_type": "execute_result"
    }
   ],
   "source": [
    "# Now we observe the 'Price' column. The 'boAt Rockerz 255', which are the top selled earphones, are way cheaper than\n",
    "# the mean price, almost half of the price.\n",
    "df_products[\"Price\"].describe()"
   ]
  },
  {
   "cell_type": "code",
   "execution_count": 90,
   "metadata": {},
   "outputs": [
    {
     "data": {
      "text/plain": [
       "0    1399\n",
       "1    1099\n",
       "2    1099\n",
       "3     749\n",
       "4    2999\n",
       "5    3190\n",
       "6    1999\n",
       "7    6499\n",
       "8    3699\n",
       "9    2000\n",
       "Name: Price, dtype: int64"
      ]
     },
     "execution_count": 90,
     "metadata": {},
     "output_type": "execute_result"
    }
   ],
   "source": [
    "df_products[\"Price\"]"
   ]
  },
  {
   "cell_type": "code",
   "execution_count": 91,
   "metadata": {},
   "outputs": [
    {
     "name": "stdout",
     "output_type": "stream",
     "text": [
      "Converting rupees to euros...\n",
      "Dropping old column...\n",
      "Appending new column with selected currency...\n",
      "All processes completed.\n",
      "                                     ProductFullName       ProductShortName  \\\n",
      "0  boAt Rockerz 255 Sports Bluetooth Wireless Ear...       boAt Rockerz 255   \n",
      "1  Flybot Wave in-Ear Sport Wireless Bluetooth Ea...            Flybot Wave   \n",
      "2  Flybot Boom Deep Bass in-Ear Wireless Bluetoot...            Flybot Boom   \n",
      "3  PTron Intunes Pro Headphone Magnetic Earphone ...          PTron Intunes   \n",
      "4  Flybot Beat True Wireless Bluetooth Earphones ...            Flybot Beat   \n",
      "5  Samsung EO-BG950CBEGIN Bluetooth Wireless in-E...  Samsung EO-BG950CBEIN   \n",
      "6  JBL T205BT Pure Bass Wireless Metal Earbud Hea...             JBL T205BT   \n",
      "7  Sennheiser CX 6.0BT 507447 in Ear Wireless Ear...    Sennheiser CX 6.0BT   \n",
      "8  Skullcandy S2PGHW-174 in-Ear Wireless Headphon...  Skullcandy S2PGHW-174   \n",
      "9  JBL T110BT Pure Bass Wireless in-Ear Headphone...             JBL T110BT   \n",
      "\n",
      "   Prices  \n",
      "0      16  \n",
      "1      13  \n",
      "2      13  \n",
      "3       9  \n",
      "4      34  \n",
      "5      36  \n",
      "6      23  \n",
      "7      74  \n",
      "8      42  \n",
      "9      23  \n"
     ]
    }
   ],
   "source": [
    "# We create a function in order to convert rupees to eur.\n",
    "import time\n",
    "\n",
    "def rupees_to_eur():\n",
    "    print('Converting rupees to euros...')\n",
    "    time.sleep(1)\n",
    "    prices_eur = []\n",
    "    for i in df_products[\"Price\"]:\n",
    "        eur = round(float(i/87.8529))\n",
    "        prices_eur.append(eur)\n",
    "    print('Dropping old column...')\n",
    "    time.sleep(1)\n",
    "    df_products.drop([\"Price\"], axis=1, inplace=True)\n",
    "    df_products.drop([\"MRP\"], axis=1, inplace=True)\n",
    "    print('Appending new column with selected currency...')\n",
    "    df_products[\"Prices\"] = prices_eur\n",
    "    time.sleep(1.5)\n",
    "    print('All processes completed.')\n",
    "    print(df_products)\n",
    "        \n",
    "        \n",
    "\n",
    "rupees_to_eur()"
   ]
  },
  {
   "cell_type": "code",
   "execution_count": 92,
   "metadata": {},
   "outputs": [
    {
     "data": {
      "text/html": [
       "<div>\n",
       "<style scoped>\n",
       "    .dataframe tbody tr th:only-of-type {\n",
       "        vertical-align: middle;\n",
       "    }\n",
       "\n",
       "    .dataframe tbody tr th {\n",
       "        vertical-align: top;\n",
       "    }\n",
       "\n",
       "    .dataframe thead th {\n",
       "        text-align: right;\n",
       "    }\n",
       "</style>\n",
       "<table border=\"1\" class=\"dataframe\">\n",
       "  <thead>\n",
       "    <tr style=\"text-align: right;\">\n",
       "      <th></th>\n",
       "      <th>ProductFullName</th>\n",
       "      <th>ProductShortName</th>\n",
       "      <th>Prices</th>\n",
       "    </tr>\n",
       "  </thead>\n",
       "  <tbody>\n",
       "    <tr>\n",
       "      <th>0</th>\n",
       "      <td>boAt Rockerz 255 Sports Bluetooth Wireless Ear...</td>\n",
       "      <td>boAt Rockerz 255</td>\n",
       "      <td>16</td>\n",
       "    </tr>\n",
       "    <tr>\n",
       "      <th>1</th>\n",
       "      <td>Flybot Wave in-Ear Sport Wireless Bluetooth Ea...</td>\n",
       "      <td>Flybot Wave</td>\n",
       "      <td>13</td>\n",
       "    </tr>\n",
       "    <tr>\n",
       "      <th>2</th>\n",
       "      <td>Flybot Boom Deep Bass in-Ear Wireless Bluetoot...</td>\n",
       "      <td>Flybot Boom</td>\n",
       "      <td>13</td>\n",
       "    </tr>\n",
       "    <tr>\n",
       "      <th>3</th>\n",
       "      <td>PTron Intunes Pro Headphone Magnetic Earphone ...</td>\n",
       "      <td>PTron Intunes</td>\n",
       "      <td>9</td>\n",
       "    </tr>\n",
       "    <tr>\n",
       "      <th>4</th>\n",
       "      <td>Flybot Beat True Wireless Bluetooth Earphones ...</td>\n",
       "      <td>Flybot Beat</td>\n",
       "      <td>34</td>\n",
       "    </tr>\n",
       "    <tr>\n",
       "      <th>5</th>\n",
       "      <td>Samsung EO-BG950CBEGIN Bluetooth Wireless in-E...</td>\n",
       "      <td>Samsung EO-BG950CBEIN</td>\n",
       "      <td>36</td>\n",
       "    </tr>\n",
       "    <tr>\n",
       "      <th>6</th>\n",
       "      <td>JBL T205BT Pure Bass Wireless Metal Earbud Hea...</td>\n",
       "      <td>JBL T205BT</td>\n",
       "      <td>23</td>\n",
       "    </tr>\n",
       "    <tr>\n",
       "      <th>7</th>\n",
       "      <td>Sennheiser CX 6.0BT 507447 in Ear Wireless Ear...</td>\n",
       "      <td>Sennheiser CX 6.0BT</td>\n",
       "      <td>74</td>\n",
       "    </tr>\n",
       "    <tr>\n",
       "      <th>8</th>\n",
       "      <td>Skullcandy S2PGHW-174 in-Ear Wireless Headphon...</td>\n",
       "      <td>Skullcandy S2PGHW-174</td>\n",
       "      <td>42</td>\n",
       "    </tr>\n",
       "    <tr>\n",
       "      <th>9</th>\n",
       "      <td>JBL T110BT Pure Bass Wireless in-Ear Headphone...</td>\n",
       "      <td>JBL T110BT</td>\n",
       "      <td>23</td>\n",
       "    </tr>\n",
       "  </tbody>\n",
       "</table>\n",
       "</div>"
      ],
      "text/plain": [
       "                                     ProductFullName       ProductShortName  \\\n",
       "0  boAt Rockerz 255 Sports Bluetooth Wireless Ear...       boAt Rockerz 255   \n",
       "1  Flybot Wave in-Ear Sport Wireless Bluetooth Ea...            Flybot Wave   \n",
       "2  Flybot Boom Deep Bass in-Ear Wireless Bluetoot...            Flybot Boom   \n",
       "3  PTron Intunes Pro Headphone Magnetic Earphone ...          PTron Intunes   \n",
       "4  Flybot Beat True Wireless Bluetooth Earphones ...            Flybot Beat   \n",
       "5  Samsung EO-BG950CBEGIN Bluetooth Wireless in-E...  Samsung EO-BG950CBEIN   \n",
       "6  JBL T205BT Pure Bass Wireless Metal Earbud Hea...             JBL T205BT   \n",
       "7  Sennheiser CX 6.0BT 507447 in Ear Wireless Ear...    Sennheiser CX 6.0BT   \n",
       "8  Skullcandy S2PGHW-174 in-Ear Wireless Headphon...  Skullcandy S2PGHW-174   \n",
       "9  JBL T110BT Pure Bass Wireless in-Ear Headphone...             JBL T110BT   \n",
       "\n",
       "   Prices  \n",
       "0      16  \n",
       "1      13  \n",
       "2      13  \n",
       "3       9  \n",
       "4      34  \n",
       "5      36  \n",
       "6      23  \n",
       "7      74  \n",
       "8      42  \n",
       "9      23  "
      ]
     },
     "execution_count": 92,
     "metadata": {},
     "output_type": "execute_result"
    }
   ],
   "source": [
    "df_products"
   ]
  },
  {
   "cell_type": "code",
   "execution_count": 218,
   "metadata": {},
   "outputs": [],
   "source": [
    "import requests\n",
    "import json"
   ]
  },
  {
   "cell_type": "code",
   "execution_count": 219,
   "metadata": {},
   "outputs": [],
   "source": [
    "key = open(\"../key.txt\").readlines()[0]"
   ]
  },
  {
   "cell_type": "code",
   "execution_count": 220,
   "metadata": {},
   "outputs": [],
   "source": [
    "params = {\n",
    "  'api_key': key,\n",
    "  'type': 'reviews',\n",
    "  'url': 'https://www.amazon.es/dp/B0763L841F/ref=twister_B07WZNH3Q8?_encoding=UTF8&psc=1'\n",
    "}"
   ]
  },
  {
   "cell_type": "code",
   "execution_count": 221,
   "metadata": {},
   "outputs": [],
   "source": [
    "response = requests.get('https://api.rainforestapi.com/request', params)"
   ]
  },
  {
   "cell_type": "code",
   "execution_count": 222,
   "metadata": {},
   "outputs": [
    {
     "data": {
      "text/plain": [
       "200"
      ]
     },
     "execution_count": 222,
     "metadata": {},
     "output_type": "execute_result"
    }
   ],
   "source": [
    "response.status_code"
   ]
  },
  {
   "cell_type": "code",
   "execution_count": 223,
   "metadata": {},
   "outputs": [],
   "source": [
    "data = response.json()"
   ]
  },
  {
   "cell_type": "code",
   "execution_count": 224,
   "metadata": {},
   "outputs": [
    {
     "data": {
      "text/plain": [
       "dict"
      ]
     },
     "execution_count": 224,
     "metadata": {},
     "output_type": "execute_result"
    }
   ],
   "source": [
    "type(data)"
   ]
  },
  {
   "cell_type": "code",
   "execution_count": 227,
   "metadata": {},
   "outputs": [],
   "source": [
    "summary = data.get(\"summary\")"
   ]
  },
  {
   "cell_type": "code",
   "execution_count": 268,
   "metadata": {},
   "outputs": [
    {
     "data": {
      "text/plain": [
       "{'rating': 3.9,\n",
       " 'reviews_total': 2370,\n",
       " 'rating_breakdown': {'five_star': {'percentage': 53, 'count': 1256},\n",
       "  'four_star': {'percentage': 19, 'count': 450},\n",
       "  'three_star': {'percentage': 9, 'count': 213},\n",
       "  'two_star': {'percentage': 5, 'count': 118},\n",
       "  'one_star': {'percentage': 14, 'count': 331}}}"
      ]
     },
     "execution_count": 268,
     "metadata": {},
     "output_type": "execute_result"
    }
   ],
   "source": [
    "summary"
   ]
  },
  {
   "cell_type": "code",
   "execution_count": 326,
   "metadata": {},
   "outputs": [
    {
     "data": {
      "text/plain": [
       "{'five_star': {'percentage': 53, 'count': 1256},\n",
       " 'four_star': {'percentage': 19, 'count': 450},\n",
       " 'three_star': {'percentage': 9, 'count': 213},\n",
       " 'two_star': {'percentage': 5, 'count': 118},\n",
       " 'one_star': {'percentage': 14, 'count': 331}}"
      ]
     },
     "execution_count": 326,
     "metadata": {},
     "output_type": "execute_result"
    }
   ],
   "source": [
    "rating_break = summary.get(\"rating_breakdown\")\n",
    "rating_break"
   ]
  },
  {
   "cell_type": "code",
   "execution_count": 283,
   "metadata": {
    "scrolled": true
   },
   "outputs": [
    {
     "data": {
      "text/html": [
       "<div>\n",
       "<style scoped>\n",
       "    .dataframe tbody tr th:only-of-type {\n",
       "        vertical-align: middle;\n",
       "    }\n",
       "\n",
       "    .dataframe tbody tr th {\n",
       "        vertical-align: top;\n",
       "    }\n",
       "\n",
       "    .dataframe thead th {\n",
       "        text-align: right;\n",
       "    }\n",
       "</style>\n",
       "<table border=\"1\" class=\"dataframe\">\n",
       "  <thead>\n",
       "    <tr style=\"text-align: right;\">\n",
       "      <th></th>\n",
       "      <th>count</th>\n",
       "    </tr>\n",
       "  </thead>\n",
       "  <tbody>\n",
       "    <tr>\n",
       "      <th>five_star</th>\n",
       "      <td>1256</td>\n",
       "    </tr>\n",
       "    <tr>\n",
       "      <th>four_star</th>\n",
       "      <td>450</td>\n",
       "    </tr>\n",
       "    <tr>\n",
       "      <th>three_star</th>\n",
       "      <td>213</td>\n",
       "    </tr>\n",
       "    <tr>\n",
       "      <th>two_star</th>\n",
       "      <td>118</td>\n",
       "    </tr>\n",
       "    <tr>\n",
       "      <th>one_star</th>\n",
       "      <td>331</td>\n",
       "    </tr>\n",
       "  </tbody>\n",
       "</table>\n",
       "</div>"
      ],
      "text/plain": [
       "            count\n",
       "five_star    1256\n",
       "four_star     450\n",
       "three_star    213\n",
       "two_star      118\n",
       "one_star      331"
      ]
     },
     "execution_count": 283,
     "metadata": {},
     "output_type": "execute_result"
    }
   ],
   "source": [
    "rate = pd.DataFrame(rating_break).T\n",
    "rate.drop([\"percentage\"], axis=1, inplace=True)\n",
    "rate"
   ]
  },
  {
   "cell_type": "code",
   "execution_count": 275,
   "metadata": {},
   "outputs": [],
   "source": [
    "product = data.get(\"product\")"
   ]
  },
  {
   "cell_type": "code",
   "execution_count": 284,
   "metadata": {},
   "outputs": [
    {
     "data": {
      "text/plain": [
       "'JBL T205 - Auriculares (Alámbrico, Dentro de oído, Binaural, Intraaural, 20-20000 Hz, Negro)'"
      ]
     },
     "execution_count": 284,
     "metadata": {},
     "output_type": "execute_result"
    }
   ],
   "source": [
    "title = product.get(\"title\")\n",
    "title"
   ]
  },
  {
   "cell_type": "code",
   "execution_count": 303,
   "metadata": {},
   "outputs": [],
   "source": [
    "rate.insert(1, \"product\", [\"JBL T205\", \"JBL T205\", \"JBL T205\", \"JBL T205\", \"JBL T205\"], True)\n",
    "rate.insert(0, \"ReviewStar\", [5, 4, 3, 2, 1], True)"
   ]
  },
  {
   "cell_type": "code",
   "execution_count": 315,
   "metadata": {},
   "outputs": [],
   "source": [
    "final = rate.reset_index(drop=True)"
   ]
  },
  {
   "cell_type": "code",
   "execution_count": 374,
   "metadata": {},
   "outputs": [
    {
     "data": {
      "text/html": [
       "<div>\n",
       "<style scoped>\n",
       "    .dataframe tbody tr th:only-of-type {\n",
       "        vertical-align: middle;\n",
       "    }\n",
       "\n",
       "    .dataframe tbody tr th {\n",
       "        vertical-align: top;\n",
       "    }\n",
       "\n",
       "    .dataframe thead th {\n",
       "        text-align: right;\n",
       "    }\n",
       "</style>\n",
       "<table border=\"1\" class=\"dataframe\">\n",
       "  <thead>\n",
       "    <tr style=\"text-align: right;\">\n",
       "      <th></th>\n",
       "      <th>ReviewStar</th>\n",
       "      <th>count</th>\n",
       "      <th>product</th>\n",
       "    </tr>\n",
       "  </thead>\n",
       "  <tbody>\n",
       "    <tr>\n",
       "      <th>0</th>\n",
       "      <td>5</td>\n",
       "      <td>1256</td>\n",
       "      <td>JBL T205</td>\n",
       "    </tr>\n",
       "    <tr>\n",
       "      <th>1</th>\n",
       "      <td>4</td>\n",
       "      <td>450</td>\n",
       "      <td>JBL T205</td>\n",
       "    </tr>\n",
       "    <tr>\n",
       "      <th>2</th>\n",
       "      <td>3</td>\n",
       "      <td>213</td>\n",
       "      <td>JBL T205</td>\n",
       "    </tr>\n",
       "    <tr>\n",
       "      <th>3</th>\n",
       "      <td>2</td>\n",
       "      <td>118</td>\n",
       "      <td>JBL T205</td>\n",
       "    </tr>\n",
       "    <tr>\n",
       "      <th>4</th>\n",
       "      <td>1</td>\n",
       "      <td>331</td>\n",
       "      <td>JBL T205</td>\n",
       "    </tr>\n",
       "  </tbody>\n",
       "</table>\n",
       "</div>"
      ],
      "text/plain": [
       "   ReviewStar  count   product\n",
       "0           5   1256  JBL T205\n",
       "1           4    450  JBL T205\n",
       "2           3    213  JBL T205\n",
       "3           2    118  JBL T205\n",
       "4           1    331  JBL T205"
      ]
     },
     "execution_count": 374,
     "metadata": {},
     "output_type": "execute_result"
    }
   ],
   "source": [
    "final"
   ]
  },
  {
   "cell_type": "markdown",
   "metadata": {},
   "source": [
    "Next product:"
   ]
  },
  {
   "cell_type": "code",
   "execution_count": 317,
   "metadata": {},
   "outputs": [],
   "source": [
    "params1 = {\n",
    "  'api_key': key,\n",
    "  'type': 'reviews',\n",
    "  'url': 'https://www.amazon.es/Samsung-BT-EOEG920BR-Auriculares-oficiales-ear/dp/B00U7YKQQC/ref=sr_1_25?__mk_es_ES=%C3%85M%C3%85%C5%BD%C3%95%C3%91&dchild=1&keywords=Samsung+earphones&qid=1604840461&sr=8-25'\n",
    "}"
   ]
  },
  {
   "cell_type": "code",
   "execution_count": 318,
   "metadata": {},
   "outputs": [],
   "source": [
    "response1 = requests.get('https://api.rainforestapi.com/request', params1)"
   ]
  },
  {
   "cell_type": "code",
   "execution_count": 319,
   "metadata": {},
   "outputs": [
    {
     "data": {
      "text/plain": [
       "200"
      ]
     },
     "execution_count": 319,
     "metadata": {},
     "output_type": "execute_result"
    }
   ],
   "source": [
    "response1.status_code"
   ]
  },
  {
   "cell_type": "code",
   "execution_count": 320,
   "metadata": {},
   "outputs": [],
   "source": [
    "data1 = response1.json()"
   ]
  },
  {
   "cell_type": "code",
   "execution_count": 323,
   "metadata": {},
   "outputs": [
    {
     "data": {
      "text/plain": [
       "{'rating': 4,\n",
       " 'reviews_total': 1701,\n",
       " 'rating_breakdown': {'five_star': {'percentage': 58, 'count': 986},\n",
       "  'four_star': {'percentage': 14, 'count': 238},\n",
       "  'three_star': {'percentage': 10, 'count': 170},\n",
       "  'two_star': {'percentage': 5, 'count': 85},\n",
       "  'one_star': {'percentage': 12, 'count': 204}}}"
      ]
     },
     "execution_count": 323,
     "metadata": {},
     "output_type": "execute_result"
    }
   ],
   "source": [
    "summary1 = data1.get(\"summary\")\n",
    "summary1"
   ]
  },
  {
   "cell_type": "code",
   "execution_count": 328,
   "metadata": {
    "scrolled": true
   },
   "outputs": [
    {
     "data": {
      "text/html": [
       "<div>\n",
       "<style scoped>\n",
       "    .dataframe tbody tr th:only-of-type {\n",
       "        vertical-align: middle;\n",
       "    }\n",
       "\n",
       "    .dataframe tbody tr th {\n",
       "        vertical-align: top;\n",
       "    }\n",
       "\n",
       "    .dataframe thead th {\n",
       "        text-align: right;\n",
       "    }\n",
       "</style>\n",
       "<table border=\"1\" class=\"dataframe\">\n",
       "  <thead>\n",
       "    <tr style=\"text-align: right;\">\n",
       "      <th></th>\n",
       "      <th>five_star</th>\n",
       "      <th>four_star</th>\n",
       "      <th>three_star</th>\n",
       "      <th>two_star</th>\n",
       "      <th>one_star</th>\n",
       "    </tr>\n",
       "  </thead>\n",
       "  <tbody>\n",
       "    <tr>\n",
       "      <th>percentage</th>\n",
       "      <td>58</td>\n",
       "      <td>14</td>\n",
       "      <td>10</td>\n",
       "      <td>5</td>\n",
       "      <td>12</td>\n",
       "    </tr>\n",
       "    <tr>\n",
       "      <th>count</th>\n",
       "      <td>986</td>\n",
       "      <td>238</td>\n",
       "      <td>170</td>\n",
       "      <td>85</td>\n",
       "      <td>204</td>\n",
       "    </tr>\n",
       "  </tbody>\n",
       "</table>\n",
       "</div>"
      ],
      "text/plain": [
       "            five_star  four_star  three_star  two_star  one_star\n",
       "percentage         58         14          10         5        12\n",
       "count             986        238         170        85       204"
      ]
     },
     "execution_count": 328,
     "metadata": {},
     "output_type": "execute_result"
    }
   ],
   "source": [
    "rating_break1 = summary1.get(\"rating_breakdown\")\n",
    "pd.DataFrame(rating_break1)"
   ]
  },
  {
   "cell_type": "code",
   "execution_count": 331,
   "metadata": {
    "scrolled": true
   },
   "outputs": [
    {
     "data": {
      "text/html": [
       "<div>\n",
       "<style scoped>\n",
       "    .dataframe tbody tr th:only-of-type {\n",
       "        vertical-align: middle;\n",
       "    }\n",
       "\n",
       "    .dataframe tbody tr th {\n",
       "        vertical-align: top;\n",
       "    }\n",
       "\n",
       "    .dataframe thead th {\n",
       "        text-align: right;\n",
       "    }\n",
       "</style>\n",
       "<table border=\"1\" class=\"dataframe\">\n",
       "  <thead>\n",
       "    <tr style=\"text-align: right;\">\n",
       "      <th></th>\n",
       "      <th>count</th>\n",
       "    </tr>\n",
       "  </thead>\n",
       "  <tbody>\n",
       "    <tr>\n",
       "      <th>five_star</th>\n",
       "      <td>986</td>\n",
       "    </tr>\n",
       "    <tr>\n",
       "      <th>four_star</th>\n",
       "      <td>238</td>\n",
       "    </tr>\n",
       "    <tr>\n",
       "      <th>three_star</th>\n",
       "      <td>170</td>\n",
       "    </tr>\n",
       "    <tr>\n",
       "      <th>two_star</th>\n",
       "      <td>85</td>\n",
       "    </tr>\n",
       "    <tr>\n",
       "      <th>one_star</th>\n",
       "      <td>204</td>\n",
       "    </tr>\n",
       "  </tbody>\n",
       "</table>\n",
       "</div>"
      ],
      "text/plain": [
       "            count\n",
       "five_star     986\n",
       "four_star     238\n",
       "three_star    170\n",
       "two_star       85\n",
       "one_star      204"
      ]
     },
     "execution_count": 331,
     "metadata": {},
     "output_type": "execute_result"
    }
   ],
   "source": [
    "rate1 = pd.DataFrame(rating_break1).T\n",
    "rate1.drop([\"percentage\"], axis=1, inplace=True)\n",
    "rate1"
   ]
  },
  {
   "cell_type": "code",
   "execution_count": 332,
   "metadata": {},
   "outputs": [
    {
     "data": {
      "text/plain": [
       "'Samsung BT-EOEG920BR - Auriculares oficiales in-ear, color rojo- Versión española'"
      ]
     },
     "execution_count": 332,
     "metadata": {},
     "output_type": "execute_result"
    }
   ],
   "source": [
    "product1 = data1.get(\"product\")\n",
    "title1 = product1.get(\"title\")\n",
    "title1"
   ]
  },
  {
   "cell_type": "code",
   "execution_count": 333,
   "metadata": {},
   "outputs": [],
   "source": [
    "rate1.insert(1, \"product\", [\"Samsung BT-EOEG920BR\", \"Samsung BT-EOEG920BR\", \"Samsung BT-EOEG920BR\", \"Samsung BT-EOEG920BR\", \"Samsung BT-EOEG920BR\"], True)\n",
    "rate1.insert(0, \"ReviewStar\", [5, 4, 3, 2, 1], True)"
   ]
  },
  {
   "cell_type": "code",
   "execution_count": 375,
   "metadata": {
    "scrolled": true
   },
   "outputs": [
    {
     "data": {
      "text/html": [
       "<div>\n",
       "<style scoped>\n",
       "    .dataframe tbody tr th:only-of-type {\n",
       "        vertical-align: middle;\n",
       "    }\n",
       "\n",
       "    .dataframe tbody tr th {\n",
       "        vertical-align: top;\n",
       "    }\n",
       "\n",
       "    .dataframe thead th {\n",
       "        text-align: right;\n",
       "    }\n",
       "</style>\n",
       "<table border=\"1\" class=\"dataframe\">\n",
       "  <thead>\n",
       "    <tr style=\"text-align: right;\">\n",
       "      <th></th>\n",
       "      <th>ReviewStar</th>\n",
       "      <th>count</th>\n",
       "      <th>product</th>\n",
       "    </tr>\n",
       "  </thead>\n",
       "  <tbody>\n",
       "    <tr>\n",
       "      <th>0</th>\n",
       "      <td>5</td>\n",
       "      <td>986</td>\n",
       "      <td>Samsung BT-EOEG920BR</td>\n",
       "    </tr>\n",
       "    <tr>\n",
       "      <th>1</th>\n",
       "      <td>4</td>\n",
       "      <td>238</td>\n",
       "      <td>Samsung BT-EOEG920BR</td>\n",
       "    </tr>\n",
       "    <tr>\n",
       "      <th>2</th>\n",
       "      <td>3</td>\n",
       "      <td>170</td>\n",
       "      <td>Samsung BT-EOEG920BR</td>\n",
       "    </tr>\n",
       "    <tr>\n",
       "      <th>3</th>\n",
       "      <td>2</td>\n",
       "      <td>85</td>\n",
       "      <td>Samsung BT-EOEG920BR</td>\n",
       "    </tr>\n",
       "    <tr>\n",
       "      <th>4</th>\n",
       "      <td>1</td>\n",
       "      <td>204</td>\n",
       "      <td>Samsung BT-EOEG920BR</td>\n",
       "    </tr>\n",
       "  </tbody>\n",
       "</table>\n",
       "</div>"
      ],
      "text/plain": [
       "   ReviewStar  count               product\n",
       "0           5    986  Samsung BT-EOEG920BR\n",
       "1           4    238  Samsung BT-EOEG920BR\n",
       "2           3    170  Samsung BT-EOEG920BR\n",
       "3           2     85  Samsung BT-EOEG920BR\n",
       "4           1    204  Samsung BT-EOEG920BR"
      ]
     },
     "execution_count": 375,
     "metadata": {},
     "output_type": "execute_result"
    }
   ],
   "source": [
    "final1 = rate1.reset_index(drop=True)\n",
    "final1"
   ]
  },
  {
   "cell_type": "markdown",
   "metadata": {},
   "source": [
    "Next product:"
   ]
  },
  {
   "cell_type": "code",
   "execution_count": 336,
   "metadata": {},
   "outputs": [],
   "source": [
    "params2 = {\n",
    "  'api_key': key,\n",
    "  'type': 'reviews',\n",
    "  'url': 'https://www.amazon.es/Sennheiser-MOMENTUM-Dentro-Binaural-Al%C3%A1mbrico/dp/B013WQINNE/ref=sr_1_22?__mk_es_ES=%C3%85M%C3%85%C5%BD%C3%95%C3%91&dchild=1&keywords=sennheiser+earphones&qid=1604840761&sr=8-22'\n",
    "}"
   ]
  },
  {
   "cell_type": "code",
   "execution_count": 337,
   "metadata": {},
   "outputs": [],
   "source": [
    "response2 = requests.get('https://api.rainforestapi.com/request', params2)"
   ]
  },
  {
   "cell_type": "code",
   "execution_count": 338,
   "metadata": {},
   "outputs": [
    {
     "data": {
      "text/plain": [
       "200"
      ]
     },
     "execution_count": 338,
     "metadata": {},
     "output_type": "execute_result"
    }
   ],
   "source": [
    "response2.status_code"
   ]
  },
  {
   "cell_type": "code",
   "execution_count": 339,
   "metadata": {},
   "outputs": [],
   "source": [
    "data2 = response2.json()"
   ]
  },
  {
   "cell_type": "code",
   "execution_count": 340,
   "metadata": {},
   "outputs": [
    {
     "data": {
      "text/plain": [
       "{'rating': 4,\n",
       " 'reviews_total': 195,\n",
       " 'rating_breakdown': {'five_star': {'percentage': 56, 'count': 109},\n",
       "  'four_star': {'percentage': 14, 'count': 27},\n",
       "  'three_star': {'percentage': 12, 'count': 23},\n",
       "  'two_star': {'percentage': 10, 'count': 19},\n",
       "  'one_star': {'percentage': 7, 'count': 13}}}"
      ]
     },
     "execution_count": 340,
     "metadata": {},
     "output_type": "execute_result"
    }
   ],
   "source": [
    "summary2 = data2.get(\"summary\")\n",
    "summary2"
   ]
  },
  {
   "cell_type": "code",
   "execution_count": 341,
   "metadata": {
    "scrolled": true
   },
   "outputs": [
    {
     "data": {
      "text/html": [
       "<div>\n",
       "<style scoped>\n",
       "    .dataframe tbody tr th:only-of-type {\n",
       "        vertical-align: middle;\n",
       "    }\n",
       "\n",
       "    .dataframe tbody tr th {\n",
       "        vertical-align: top;\n",
       "    }\n",
       "\n",
       "    .dataframe thead th {\n",
       "        text-align: right;\n",
       "    }\n",
       "</style>\n",
       "<table border=\"1\" class=\"dataframe\">\n",
       "  <thead>\n",
       "    <tr style=\"text-align: right;\">\n",
       "      <th></th>\n",
       "      <th>five_star</th>\n",
       "      <th>four_star</th>\n",
       "      <th>three_star</th>\n",
       "      <th>two_star</th>\n",
       "      <th>one_star</th>\n",
       "    </tr>\n",
       "  </thead>\n",
       "  <tbody>\n",
       "    <tr>\n",
       "      <th>percentage</th>\n",
       "      <td>56</td>\n",
       "      <td>14</td>\n",
       "      <td>12</td>\n",
       "      <td>10</td>\n",
       "      <td>7</td>\n",
       "    </tr>\n",
       "    <tr>\n",
       "      <th>count</th>\n",
       "      <td>109</td>\n",
       "      <td>27</td>\n",
       "      <td>23</td>\n",
       "      <td>19</td>\n",
       "      <td>13</td>\n",
       "    </tr>\n",
       "  </tbody>\n",
       "</table>\n",
       "</div>"
      ],
      "text/plain": [
       "            five_star  four_star  three_star  two_star  one_star\n",
       "percentage         56         14          12        10         7\n",
       "count             109         27          23        19        13"
      ]
     },
     "execution_count": 341,
     "metadata": {},
     "output_type": "execute_result"
    }
   ],
   "source": [
    "rating_break2 = summary2.get(\"rating_breakdown\")\n",
    "pd.DataFrame(rating_break2)"
   ]
  },
  {
   "cell_type": "code",
   "execution_count": 342,
   "metadata": {
    "scrolled": true
   },
   "outputs": [
    {
     "data": {
      "text/html": [
       "<div>\n",
       "<style scoped>\n",
       "    .dataframe tbody tr th:only-of-type {\n",
       "        vertical-align: middle;\n",
       "    }\n",
       "\n",
       "    .dataframe tbody tr th {\n",
       "        vertical-align: top;\n",
       "    }\n",
       "\n",
       "    .dataframe thead th {\n",
       "        text-align: right;\n",
       "    }\n",
       "</style>\n",
       "<table border=\"1\" class=\"dataframe\">\n",
       "  <thead>\n",
       "    <tr style=\"text-align: right;\">\n",
       "      <th></th>\n",
       "      <th>count</th>\n",
       "    </tr>\n",
       "  </thead>\n",
       "  <tbody>\n",
       "    <tr>\n",
       "      <th>five_star</th>\n",
       "      <td>109</td>\n",
       "    </tr>\n",
       "    <tr>\n",
       "      <th>four_star</th>\n",
       "      <td>27</td>\n",
       "    </tr>\n",
       "    <tr>\n",
       "      <th>three_star</th>\n",
       "      <td>23</td>\n",
       "    </tr>\n",
       "    <tr>\n",
       "      <th>two_star</th>\n",
       "      <td>19</td>\n",
       "    </tr>\n",
       "    <tr>\n",
       "      <th>one_star</th>\n",
       "      <td>13</td>\n",
       "    </tr>\n",
       "  </tbody>\n",
       "</table>\n",
       "</div>"
      ],
      "text/plain": [
       "            count\n",
       "five_star     109\n",
       "four_star      27\n",
       "three_star     23\n",
       "two_star       19\n",
       "one_star       13"
      ]
     },
     "execution_count": 342,
     "metadata": {},
     "output_type": "execute_result"
    }
   ],
   "source": [
    "rate2 = pd.DataFrame(rating_break2).T\n",
    "rate2.drop([\"percentage\"], axis=1, inplace=True)\n",
    "rate2"
   ]
  },
  {
   "cell_type": "code",
   "execution_count": 343,
   "metadata": {},
   "outputs": [
    {
     "data": {
      "text/plain": [
       "'Sennheiser Momentum - Auriculares (Alámbrico, Dentro de oído, Binaural, Intraaural, 15-22000 Hz, Negro, Rojo)'"
      ]
     },
     "execution_count": 343,
     "metadata": {},
     "output_type": "execute_result"
    }
   ],
   "source": [
    "product2 = data2.get(\"product\")\n",
    "title2 = product2.get(\"title\")\n",
    "title2"
   ]
  },
  {
   "cell_type": "code",
   "execution_count": 372,
   "metadata": {},
   "outputs": [],
   "source": [
    "rate2.insert(1, \"product\", [\"Sennheiser Momentum\", \"Sennheiser Momentum\", \"Sennheiser Momentum\", \"Sennheiser Momentum\", \"Sennheiser Momentum\"], True)\n",
    "rate2.insert(0, \"ReviewStar\", [5, 4, 3, 2, 1], True)"
   ]
  },
  {
   "cell_type": "code",
   "execution_count": 376,
   "metadata": {},
   "outputs": [
    {
     "data": {
      "text/html": [
       "<div>\n",
       "<style scoped>\n",
       "    .dataframe tbody tr th:only-of-type {\n",
       "        vertical-align: middle;\n",
       "    }\n",
       "\n",
       "    .dataframe tbody tr th {\n",
       "        vertical-align: top;\n",
       "    }\n",
       "\n",
       "    .dataframe thead th {\n",
       "        text-align: right;\n",
       "    }\n",
       "</style>\n",
       "<table border=\"1\" class=\"dataframe\">\n",
       "  <thead>\n",
       "    <tr style=\"text-align: right;\">\n",
       "      <th></th>\n",
       "      <th>ReviewStar</th>\n",
       "      <th>count</th>\n",
       "      <th>product</th>\n",
       "    </tr>\n",
       "  </thead>\n",
       "  <tbody>\n",
       "    <tr>\n",
       "      <th>0</th>\n",
       "      <td>5</td>\n",
       "      <td>109</td>\n",
       "      <td>Sennheiser Momentum</td>\n",
       "    </tr>\n",
       "    <tr>\n",
       "      <th>1</th>\n",
       "      <td>4</td>\n",
       "      <td>27</td>\n",
       "      <td>Sennheiser Momentum</td>\n",
       "    </tr>\n",
       "    <tr>\n",
       "      <th>2</th>\n",
       "      <td>3</td>\n",
       "      <td>23</td>\n",
       "      <td>Sennheiser Momentum</td>\n",
       "    </tr>\n",
       "    <tr>\n",
       "      <th>3</th>\n",
       "      <td>2</td>\n",
       "      <td>19</td>\n",
       "      <td>Sennheiser Momentum</td>\n",
       "    </tr>\n",
       "    <tr>\n",
       "      <th>4</th>\n",
       "      <td>1</td>\n",
       "      <td>13</td>\n",
       "      <td>Sennheiser Momentum</td>\n",
       "    </tr>\n",
       "  </tbody>\n",
       "</table>\n",
       "</div>"
      ],
      "text/plain": [
       "   ReviewStar  count              product\n",
       "0           5    109  Sennheiser Momentum\n",
       "1           4     27  Sennheiser Momentum\n",
       "2           3     23  Sennheiser Momentum\n",
       "3           2     19  Sennheiser Momentum\n",
       "4           1     13  Sennheiser Momentum"
      ]
     },
     "execution_count": 376,
     "metadata": {},
     "output_type": "execute_result"
    }
   ],
   "source": [
    "final2 = rate2.reset_index(drop=True)\n",
    "final2"
   ]
  },
  {
   "cell_type": "markdown",
   "metadata": {},
   "source": [
    "Next product:"
   ]
  },
  {
   "cell_type": "code",
   "execution_count": 382,
   "metadata": {},
   "outputs": [
    {
     "data": {
      "text/plain": [
       "200"
      ]
     },
     "execution_count": 382,
     "metadata": {},
     "output_type": "execute_result"
    }
   ],
   "source": [
    "params3 = {\n",
    "  'api_key': key,\n",
    "  'type': 'reviews',\n",
    "  'url': 'https://www.amazon.es/Skullcandy-Inkd-2-0-Auriculares-ear/dp/B00BYVYBPE/ref=sr_1_17?__mk_es_ES=%C3%85M%C3%85%C5%BD%C3%95%C3%91&crid=XYZFIIQD3DYP&dchild=1&keywords=skullcandy+earphones&qid=1604840922&sprefix=skullcandy+earphone%2Caps%2C191&sr=8-17'\n",
    "}\n",
    "\n",
    "response3 = requests.get('https://api.rainforestapi.com/request', params3)\n",
    "\n",
    "response3.status_code"
   ]
  },
  {
   "cell_type": "code",
   "execution_count": 383,
   "metadata": {},
   "outputs": [],
   "source": [
    "data3 = response3.json()"
   ]
  },
  {
   "cell_type": "code",
   "execution_count": 384,
   "metadata": {
    "scrolled": true
   },
   "outputs": [
    {
     "data": {
      "text/plain": [
       "{'rating': 3.7,\n",
       " 'reviews_total': 21570,\n",
       " 'rating_breakdown': {'five_star': {'percentage': 49, 'count': 10569},\n",
       "  'four_star': {'percentage': 17, 'count': 3666},\n",
       "  'three_star': {'percentage': 9, 'count': 1941},\n",
       "  'two_star': {'percentage': 7, 'count': 1509},\n",
       "  'one_star': {'percentage': 20, 'count': 4314}}}"
      ]
     },
     "execution_count": 384,
     "metadata": {},
     "output_type": "execute_result"
    }
   ],
   "source": [
    "summary3 = data3.get(\"summary\")\n",
    "summary3"
   ]
  },
  {
   "cell_type": "code",
   "execution_count": 385,
   "metadata": {},
   "outputs": [
    {
     "data": {
      "text/html": [
       "<div>\n",
       "<style scoped>\n",
       "    .dataframe tbody tr th:only-of-type {\n",
       "        vertical-align: middle;\n",
       "    }\n",
       "\n",
       "    .dataframe tbody tr th {\n",
       "        vertical-align: top;\n",
       "    }\n",
       "\n",
       "    .dataframe thead th {\n",
       "        text-align: right;\n",
       "    }\n",
       "</style>\n",
       "<table border=\"1\" class=\"dataframe\">\n",
       "  <thead>\n",
       "    <tr style=\"text-align: right;\">\n",
       "      <th></th>\n",
       "      <th>five_star</th>\n",
       "      <th>four_star</th>\n",
       "      <th>three_star</th>\n",
       "      <th>two_star</th>\n",
       "      <th>one_star</th>\n",
       "    </tr>\n",
       "  </thead>\n",
       "  <tbody>\n",
       "    <tr>\n",
       "      <th>percentage</th>\n",
       "      <td>49</td>\n",
       "      <td>17</td>\n",
       "      <td>9</td>\n",
       "      <td>7</td>\n",
       "      <td>20</td>\n",
       "    </tr>\n",
       "    <tr>\n",
       "      <th>count</th>\n",
       "      <td>10569</td>\n",
       "      <td>3666</td>\n",
       "      <td>1941</td>\n",
       "      <td>1509</td>\n",
       "      <td>4314</td>\n",
       "    </tr>\n",
       "  </tbody>\n",
       "</table>\n",
       "</div>"
      ],
      "text/plain": [
       "            five_star  four_star  three_star  two_star  one_star\n",
       "percentage         49         17           9         7        20\n",
       "count           10569       3666        1941      1509      4314"
      ]
     },
     "execution_count": 385,
     "metadata": {},
     "output_type": "execute_result"
    }
   ],
   "source": [
    "rating_break3 = summary3.get(\"rating_breakdown\")\n",
    "pd.DataFrame(rating_break3)"
   ]
  },
  {
   "cell_type": "code",
   "execution_count": 386,
   "metadata": {
    "scrolled": true
   },
   "outputs": [
    {
     "data": {
      "text/html": [
       "<div>\n",
       "<style scoped>\n",
       "    .dataframe tbody tr th:only-of-type {\n",
       "        vertical-align: middle;\n",
       "    }\n",
       "\n",
       "    .dataframe tbody tr th {\n",
       "        vertical-align: top;\n",
       "    }\n",
       "\n",
       "    .dataframe thead th {\n",
       "        text-align: right;\n",
       "    }\n",
       "</style>\n",
       "<table border=\"1\" class=\"dataframe\">\n",
       "  <thead>\n",
       "    <tr style=\"text-align: right;\">\n",
       "      <th></th>\n",
       "      <th>count</th>\n",
       "    </tr>\n",
       "  </thead>\n",
       "  <tbody>\n",
       "    <tr>\n",
       "      <th>five_star</th>\n",
       "      <td>10569</td>\n",
       "    </tr>\n",
       "    <tr>\n",
       "      <th>four_star</th>\n",
       "      <td>3666</td>\n",
       "    </tr>\n",
       "    <tr>\n",
       "      <th>three_star</th>\n",
       "      <td>1941</td>\n",
       "    </tr>\n",
       "    <tr>\n",
       "      <th>two_star</th>\n",
       "      <td>1509</td>\n",
       "    </tr>\n",
       "    <tr>\n",
       "      <th>one_star</th>\n",
       "      <td>4314</td>\n",
       "    </tr>\n",
       "  </tbody>\n",
       "</table>\n",
       "</div>"
      ],
      "text/plain": [
       "            count\n",
       "five_star   10569\n",
       "four_star    3666\n",
       "three_star   1941\n",
       "two_star     1509\n",
       "one_star     4314"
      ]
     },
     "execution_count": 386,
     "metadata": {},
     "output_type": "execute_result"
    }
   ],
   "source": [
    "rate3 = pd.DataFrame(rating_break3).T\n",
    "rate3.drop([\"percentage\"], axis=1, inplace=True)\n",
    "rate3"
   ]
  },
  {
   "cell_type": "code",
   "execution_count": 387,
   "metadata": {
    "scrolled": true
   },
   "outputs": [
    {
     "data": {
      "text/plain": [
       "\"Skullcandy Ink'd 2.0 - Auriculares in-ear (con micrófono), blanco\""
      ]
     },
     "execution_count": 387,
     "metadata": {},
     "output_type": "execute_result"
    }
   ],
   "source": [
    "product3 = data3.get(\"product\")\n",
    "title3 = product3.get(\"title\")\n",
    "title3"
   ]
  },
  {
   "cell_type": "code",
   "execution_count": 406,
   "metadata": {},
   "outputs": [],
   "source": [
    "rate3.insert(1, \"product\", [\"Skullcandy Ink'd 2.0\", \"Skullcandy Ink'd 2.0\", \"Skullcandy Ink'd 2.0\", \"Skullcandy Ink'd 2.0\", \"Skullcandy Ink'd 2.0\"], True)\n",
    "rate3.insert(0, \"ReviewStar\", [5, 4, 3, 2, 1], True)"
   ]
  },
  {
   "cell_type": "code",
   "execution_count": 407,
   "metadata": {},
   "outputs": [
    {
     "data": {
      "text/html": [
       "<div>\n",
       "<style scoped>\n",
       "    .dataframe tbody tr th:only-of-type {\n",
       "        vertical-align: middle;\n",
       "    }\n",
       "\n",
       "    .dataframe tbody tr th {\n",
       "        vertical-align: top;\n",
       "    }\n",
       "\n",
       "    .dataframe thead th {\n",
       "        text-align: right;\n",
       "    }\n",
       "</style>\n",
       "<table border=\"1\" class=\"dataframe\">\n",
       "  <thead>\n",
       "    <tr style=\"text-align: right;\">\n",
       "      <th></th>\n",
       "      <th>ReviewStar</th>\n",
       "      <th>count</th>\n",
       "      <th>product</th>\n",
       "    </tr>\n",
       "  </thead>\n",
       "  <tbody>\n",
       "    <tr>\n",
       "      <th>0</th>\n",
       "      <td>5</td>\n",
       "      <td>10569</td>\n",
       "      <td>Skullcandy Ink'd 2.0</td>\n",
       "    </tr>\n",
       "    <tr>\n",
       "      <th>1</th>\n",
       "      <td>4</td>\n",
       "      <td>3666</td>\n",
       "      <td>Skullcandy Ink'd 2.0</td>\n",
       "    </tr>\n",
       "    <tr>\n",
       "      <th>2</th>\n",
       "      <td>3</td>\n",
       "      <td>1941</td>\n",
       "      <td>Skullcandy Ink'd 2.0</td>\n",
       "    </tr>\n",
       "    <tr>\n",
       "      <th>3</th>\n",
       "      <td>2</td>\n",
       "      <td>1509</td>\n",
       "      <td>Skullcandy Ink'd 2.0</td>\n",
       "    </tr>\n",
       "    <tr>\n",
       "      <th>4</th>\n",
       "      <td>1</td>\n",
       "      <td>4314</td>\n",
       "      <td>Skullcandy Ink'd 2.0</td>\n",
       "    </tr>\n",
       "  </tbody>\n",
       "</table>\n",
       "</div>"
      ],
      "text/plain": [
       "   ReviewStar  count               product\n",
       "0           5  10569  Skullcandy Ink'd 2.0\n",
       "1           4   3666  Skullcandy Ink'd 2.0\n",
       "2           3   1941  Skullcandy Ink'd 2.0\n",
       "3           2   1509  Skullcandy Ink'd 2.0\n",
       "4           1   4314  Skullcandy Ink'd 2.0"
      ]
     },
     "execution_count": 407,
     "metadata": {},
     "output_type": "execute_result"
    }
   ],
   "source": [
    "final3 = rate3.reset_index(drop=True)\n",
    "final3"
   ]
  },
  {
   "cell_type": "markdown",
   "metadata": {},
   "source": [
    "Next product:"
   ]
  },
  {
   "cell_type": "code",
   "execution_count": 395,
   "metadata": {},
   "outputs": [
    {
     "data": {
      "text/plain": [
       "200"
      ]
     },
     "execution_count": 395,
     "metadata": {},
     "output_type": "execute_result"
    }
   ],
   "source": [
    "params4 = {\n",
    "  'api_key': key,\n",
    "  'type': 'reviews',\n",
    "  'url': 'https://www.amazon.es/Auriculares-Micr%C3%B3fono-Incorporado-Aislamiento-Compatibles/dp/B07P9NV78S/ref=sr_1_6?__mk_es_ES=%C3%85M%C3%85%C5%BD%C3%95%C3%91&dchild=1&keywords=pTron+earphones&qid=1604841136&sr=8-6'\n",
    "}\n",
    "\n",
    "response4 = requests.get('https://api.rainforestapi.com/request', params4)\n",
    "\n",
    "response4.status_code"
   ]
  },
  {
   "cell_type": "code",
   "execution_count": 396,
   "metadata": {},
   "outputs": [],
   "source": [
    "data4 = response4.json()"
   ]
  },
  {
   "cell_type": "code",
   "execution_count": 397,
   "metadata": {},
   "outputs": [
    {
     "data": {
      "text/plain": [
       "{'rating': 4.2,\n",
       " 'reviews_total': 594,\n",
       " 'rating_breakdown': {'five_star': {'percentage': 56, 'count': 332},\n",
       "  'four_star': {'percentage': 23, 'count': 136},\n",
       "  'three_star': {'percentage': 10, 'count': 59},\n",
       "  'two_star': {'percentage': 5, 'count': 29},\n",
       "  'one_star': {'percentage': 6, 'count': 35}}}"
      ]
     },
     "execution_count": 397,
     "metadata": {},
     "output_type": "execute_result"
    }
   ],
   "source": [
    "summary4 = data4.get(\"summary\")\n",
    "summary4"
   ]
  },
  {
   "cell_type": "code",
   "execution_count": 399,
   "metadata": {
    "scrolled": true
   },
   "outputs": [
    {
     "data": {
      "text/html": [
       "<div>\n",
       "<style scoped>\n",
       "    .dataframe tbody tr th:only-of-type {\n",
       "        vertical-align: middle;\n",
       "    }\n",
       "\n",
       "    .dataframe tbody tr th {\n",
       "        vertical-align: top;\n",
       "    }\n",
       "\n",
       "    .dataframe thead th {\n",
       "        text-align: right;\n",
       "    }\n",
       "</style>\n",
       "<table border=\"1\" class=\"dataframe\">\n",
       "  <thead>\n",
       "    <tr style=\"text-align: right;\">\n",
       "      <th></th>\n",
       "      <th>count</th>\n",
       "    </tr>\n",
       "  </thead>\n",
       "  <tbody>\n",
       "    <tr>\n",
       "      <th>five_star</th>\n",
       "      <td>332</td>\n",
       "    </tr>\n",
       "    <tr>\n",
       "      <th>four_star</th>\n",
       "      <td>136</td>\n",
       "    </tr>\n",
       "    <tr>\n",
       "      <th>three_star</th>\n",
       "      <td>59</td>\n",
       "    </tr>\n",
       "    <tr>\n",
       "      <th>two_star</th>\n",
       "      <td>29</td>\n",
       "    </tr>\n",
       "    <tr>\n",
       "      <th>one_star</th>\n",
       "      <td>35</td>\n",
       "    </tr>\n",
       "  </tbody>\n",
       "</table>\n",
       "</div>"
      ],
      "text/plain": [
       "            count\n",
       "five_star     332\n",
       "four_star     136\n",
       "three_star     59\n",
       "two_star       29\n",
       "one_star       35"
      ]
     },
     "execution_count": 399,
     "metadata": {},
     "output_type": "execute_result"
    }
   ],
   "source": [
    "rating_break4 = summary4.get(\"rating_breakdown\")\n",
    "pd.DataFrame(rating_break4)\n",
    "rate4 = pd.DataFrame(rating_break4).T\n",
    "rate4.drop([\"percentage\"], axis=1, inplace=True)\n",
    "rate4"
   ]
  },
  {
   "cell_type": "code",
   "execution_count": 400,
   "metadata": {},
   "outputs": [
    {
     "data": {
      "text/plain": [
       "'Auriculares, Auriculares con Cables y Botón, Micrófono Incorporado, Aislamiento de Ruido y Sonido Estéreo, Compatibles con Andriod, Samsung, Huawei, PC y Otros (Negro y Oro)'"
      ]
     },
     "execution_count": 400,
     "metadata": {},
     "output_type": "execute_result"
    }
   ],
   "source": [
    "product4 = data4.get(\"product\")\n",
    "title4 = product4.get(\"title\")\n",
    "title4"
   ]
  },
  {
   "cell_type": "code",
   "execution_count": 408,
   "metadata": {},
   "outputs": [
    {
     "data": {
      "text/html": [
       "<div>\n",
       "<style scoped>\n",
       "    .dataframe tbody tr th:only-of-type {\n",
       "        vertical-align: middle;\n",
       "    }\n",
       "\n",
       "    .dataframe tbody tr th {\n",
       "        vertical-align: top;\n",
       "    }\n",
       "\n",
       "    .dataframe thead th {\n",
       "        text-align: right;\n",
       "    }\n",
       "</style>\n",
       "<table border=\"1\" class=\"dataframe\">\n",
       "  <thead>\n",
       "    <tr style=\"text-align: right;\">\n",
       "      <th></th>\n",
       "      <th>ReviewStar</th>\n",
       "      <th>count</th>\n",
       "      <th>product</th>\n",
       "    </tr>\n",
       "  </thead>\n",
       "  <tbody>\n",
       "    <tr>\n",
       "      <th>0</th>\n",
       "      <td>5</td>\n",
       "      <td>332</td>\n",
       "      <td>Auriculares con Cables</td>\n",
       "    </tr>\n",
       "    <tr>\n",
       "      <th>1</th>\n",
       "      <td>4</td>\n",
       "      <td>136</td>\n",
       "      <td>Auriculares con Cables</td>\n",
       "    </tr>\n",
       "    <tr>\n",
       "      <th>2</th>\n",
       "      <td>3</td>\n",
       "      <td>59</td>\n",
       "      <td>Auriculares con Cables</td>\n",
       "    </tr>\n",
       "    <tr>\n",
       "      <th>3</th>\n",
       "      <td>2</td>\n",
       "      <td>29</td>\n",
       "      <td>Auriculares con Cables</td>\n",
       "    </tr>\n",
       "    <tr>\n",
       "      <th>4</th>\n",
       "      <td>1</td>\n",
       "      <td>35</td>\n",
       "      <td>Auriculares con Cables</td>\n",
       "    </tr>\n",
       "  </tbody>\n",
       "</table>\n",
       "</div>"
      ],
      "text/plain": [
       "   ReviewStar  count                 product\n",
       "0           5    332  Auriculares con Cables\n",
       "1           4    136  Auriculares con Cables\n",
       "2           3     59  Auriculares con Cables\n",
       "3           2     29  Auriculares con Cables\n",
       "4           1     35  Auriculares con Cables"
      ]
     },
     "execution_count": 408,
     "metadata": {},
     "output_type": "execute_result"
    }
   ],
   "source": [
    "rate4.insert(1, \"product\", [\"Auriculares con Cables\", \"Auriculares con Cables\", \"Auriculares con Cables\", \"Auriculares con Cables\", \"Auriculares con Cables\"], True)\n",
    "rate4.insert(0, \"ReviewStar\", [5, 4, 3, 2, 1], True)\n",
    "final4 = rate4.reset_index(drop=True)\n",
    "final4"
   ]
  },
  {
   "cell_type": "markdown",
   "metadata": {},
   "source": [
    "Last product:"
   ]
  },
  {
   "cell_type": "code",
   "execution_count": 409,
   "metadata": {},
   "outputs": [
    {
     "data": {
      "text/plain": [
       "200"
      ]
     },
     "execution_count": 409,
     "metadata": {},
     "output_type": "execute_result"
    }
   ],
   "source": [
    "params5 = {\n",
    "  'api_key': key,\n",
    "  'type': 'reviews',\n",
    "  'url': 'https://www.amazon.es/Xiaomi-peat%C3%B3n-Cable-cl%C3%A1sico-Negro/dp/B07N8VRRDT/ref=sr_1_70?__mk_es_ES=%C3%85M%C3%85%C5%BD%C3%95%C3%91&dchild=1&keywords=xiaomi+earphones&qid=1604841216&sr=8-70'\n",
    "}\n",
    "\n",
    "response5 = requests.get('https://api.rainforestapi.com/request', params5)\n",
    "\n",
    "response5.status_code"
   ]
  },
  {
   "cell_type": "code",
   "execution_count": 410,
   "metadata": {
    "scrolled": true
   },
   "outputs": [
    {
     "data": {
      "text/plain": [
       "{'rating': 4.3,\n",
       " 'reviews_total': 60,\n",
       " 'rating_breakdown': {'five_star': {'percentage': 69, 'count': 41},\n",
       "  'four_star': {'percentage': 14, 'count': 8},\n",
       "  'three_star': {'percentage': 4, 'count': 2},\n",
       "  'two_star': {'percentage': 3, 'count': 1},\n",
       "  'one_star': {'percentage': 10, 'count': 6}}}"
      ]
     },
     "execution_count": 410,
     "metadata": {},
     "output_type": "execute_result"
    }
   ],
   "source": [
    "data5 = response5.json()\n",
    "summary5 = data5.get(\"summary\")\n",
    "summary5"
   ]
  },
  {
   "cell_type": "code",
   "execution_count": 411,
   "metadata": {
    "scrolled": true
   },
   "outputs": [
    {
     "data": {
      "text/html": [
       "<div>\n",
       "<style scoped>\n",
       "    .dataframe tbody tr th:only-of-type {\n",
       "        vertical-align: middle;\n",
       "    }\n",
       "\n",
       "    .dataframe tbody tr th {\n",
       "        vertical-align: top;\n",
       "    }\n",
       "\n",
       "    .dataframe thead th {\n",
       "        text-align: right;\n",
       "    }\n",
       "</style>\n",
       "<table border=\"1\" class=\"dataframe\">\n",
       "  <thead>\n",
       "    <tr style=\"text-align: right;\">\n",
       "      <th></th>\n",
       "      <th>count</th>\n",
       "    </tr>\n",
       "  </thead>\n",
       "  <tbody>\n",
       "    <tr>\n",
       "      <th>five_star</th>\n",
       "      <td>41</td>\n",
       "    </tr>\n",
       "    <tr>\n",
       "      <th>four_star</th>\n",
       "      <td>8</td>\n",
       "    </tr>\n",
       "    <tr>\n",
       "      <th>three_star</th>\n",
       "      <td>2</td>\n",
       "    </tr>\n",
       "    <tr>\n",
       "      <th>two_star</th>\n",
       "      <td>1</td>\n",
       "    </tr>\n",
       "    <tr>\n",
       "      <th>one_star</th>\n",
       "      <td>6</td>\n",
       "    </tr>\n",
       "  </tbody>\n",
       "</table>\n",
       "</div>"
      ],
      "text/plain": [
       "            count\n",
       "five_star      41\n",
       "four_star       8\n",
       "three_star      2\n",
       "two_star        1\n",
       "one_star        6"
      ]
     },
     "execution_count": 411,
     "metadata": {},
     "output_type": "execute_result"
    }
   ],
   "source": [
    "rating_break5 = summary5.get(\"rating_breakdown\")\n",
    "pd.DataFrame(rating_break5)\n",
    "rate5 = pd.DataFrame(rating_break5).T\n",
    "rate5.drop([\"percentage\"], axis=1, inplace=True)\n",
    "rate5"
   ]
  },
  {
   "cell_type": "code",
   "execution_count": 412,
   "metadata": {},
   "outputs": [
    {
     "data": {
      "text/plain": [
       "'Xiaomi- Kit peatón con Cable clásico\\xa0–\\xa0Negro'"
      ]
     },
     "execution_count": 412,
     "metadata": {},
     "output_type": "execute_result"
    }
   ],
   "source": [
    "product5 = data5.get(\"product\")\n",
    "title5 = product5.get(\"title\")\n",
    "title5"
   ]
  },
  {
   "cell_type": "code",
   "execution_count": 413,
   "metadata": {},
   "outputs": [
    {
     "data": {
      "text/html": [
       "<div>\n",
       "<style scoped>\n",
       "    .dataframe tbody tr th:only-of-type {\n",
       "        vertical-align: middle;\n",
       "    }\n",
       "\n",
       "    .dataframe tbody tr th {\n",
       "        vertical-align: top;\n",
       "    }\n",
       "\n",
       "    .dataframe thead th {\n",
       "        text-align: right;\n",
       "    }\n",
       "</style>\n",
       "<table border=\"1\" class=\"dataframe\">\n",
       "  <thead>\n",
       "    <tr style=\"text-align: right;\">\n",
       "      <th></th>\n",
       "      <th>ReviewStar</th>\n",
       "      <th>count</th>\n",
       "      <th>product</th>\n",
       "    </tr>\n",
       "  </thead>\n",
       "  <tbody>\n",
       "    <tr>\n",
       "      <th>0</th>\n",
       "      <td>5</td>\n",
       "      <td>41</td>\n",
       "      <td>Xiaomi</td>\n",
       "    </tr>\n",
       "    <tr>\n",
       "      <th>1</th>\n",
       "      <td>4</td>\n",
       "      <td>8</td>\n",
       "      <td>Xiaomi</td>\n",
       "    </tr>\n",
       "    <tr>\n",
       "      <th>2</th>\n",
       "      <td>3</td>\n",
       "      <td>2</td>\n",
       "      <td>Xiaomi</td>\n",
       "    </tr>\n",
       "    <tr>\n",
       "      <th>3</th>\n",
       "      <td>2</td>\n",
       "      <td>1</td>\n",
       "      <td>Xiaomi</td>\n",
       "    </tr>\n",
       "    <tr>\n",
       "      <th>4</th>\n",
       "      <td>1</td>\n",
       "      <td>6</td>\n",
       "      <td>Xiaomi</td>\n",
       "    </tr>\n",
       "  </tbody>\n",
       "</table>\n",
       "</div>"
      ],
      "text/plain": [
       "   ReviewStar  count product\n",
       "0           5     41  Xiaomi\n",
       "1           4      8  Xiaomi\n",
       "2           3      2  Xiaomi\n",
       "3           2      1  Xiaomi\n",
       "4           1      6  Xiaomi"
      ]
     },
     "execution_count": 413,
     "metadata": {},
     "output_type": "execute_result"
    }
   ],
   "source": [
    "rate5.insert(1, \"product\", [\"Xiaomi\", \"Xiaomi\", \"Xiaomi\", \"Xiaomi\", \"Xiaomi\"], True)\n",
    "rate5.insert(0, \"ReviewStar\", [5, 4, 3, 2, 1], True)\n",
    "final5 = rate5.reset_index(drop=True)\n",
    "final5"
   ]
  },
  {
   "cell_type": "code",
   "execution_count": 420,
   "metadata": {},
   "outputs": [
    {
     "data": {
      "text/html": [
       "<div>\n",
       "<style scoped>\n",
       "    .dataframe tbody tr th:only-of-type {\n",
       "        vertical-align: middle;\n",
       "    }\n",
       "\n",
       "    .dataframe tbody tr th {\n",
       "        vertical-align: top;\n",
       "    }\n",
       "\n",
       "    .dataframe thead th {\n",
       "        text-align: right;\n",
       "    }\n",
       "</style>\n",
       "<table border=\"1\" class=\"dataframe\">\n",
       "  <thead>\n",
       "    <tr style=\"text-align: right;\">\n",
       "      <th></th>\n",
       "      <th>ReviewStar</th>\n",
       "      <th>count</th>\n",
       "      <th>product</th>\n",
       "    </tr>\n",
       "  </thead>\n",
       "  <tbody>\n",
       "    <tr>\n",
       "      <th>0</th>\n",
       "      <td>5</td>\n",
       "      <td>1256</td>\n",
       "      <td>JBL T205</td>\n",
       "    </tr>\n",
       "    <tr>\n",
       "      <th>1</th>\n",
       "      <td>4</td>\n",
       "      <td>450</td>\n",
       "      <td>JBL T205</td>\n",
       "    </tr>\n",
       "    <tr>\n",
       "      <th>2</th>\n",
       "      <td>3</td>\n",
       "      <td>213</td>\n",
       "      <td>JBL T205</td>\n",
       "    </tr>\n",
       "    <tr>\n",
       "      <th>3</th>\n",
       "      <td>2</td>\n",
       "      <td>118</td>\n",
       "      <td>JBL T205</td>\n",
       "    </tr>\n",
       "    <tr>\n",
       "      <th>4</th>\n",
       "      <td>1</td>\n",
       "      <td>331</td>\n",
       "      <td>JBL T205</td>\n",
       "    </tr>\n",
       "    <tr>\n",
       "      <th>5</th>\n",
       "      <td>5</td>\n",
       "      <td>986</td>\n",
       "      <td>Samsung BT-EOEG920BR</td>\n",
       "    </tr>\n",
       "    <tr>\n",
       "      <th>6</th>\n",
       "      <td>4</td>\n",
       "      <td>238</td>\n",
       "      <td>Samsung BT-EOEG920BR</td>\n",
       "    </tr>\n",
       "    <tr>\n",
       "      <th>7</th>\n",
       "      <td>3</td>\n",
       "      <td>170</td>\n",
       "      <td>Samsung BT-EOEG920BR</td>\n",
       "    </tr>\n",
       "    <tr>\n",
       "      <th>8</th>\n",
       "      <td>2</td>\n",
       "      <td>85</td>\n",
       "      <td>Samsung BT-EOEG920BR</td>\n",
       "    </tr>\n",
       "    <tr>\n",
       "      <th>9</th>\n",
       "      <td>1</td>\n",
       "      <td>204</td>\n",
       "      <td>Samsung BT-EOEG920BR</td>\n",
       "    </tr>\n",
       "    <tr>\n",
       "      <th>10</th>\n",
       "      <td>5</td>\n",
       "      <td>109</td>\n",
       "      <td>Sennheiser Momentum</td>\n",
       "    </tr>\n",
       "    <tr>\n",
       "      <th>11</th>\n",
       "      <td>4</td>\n",
       "      <td>27</td>\n",
       "      <td>Sennheiser Momentum</td>\n",
       "    </tr>\n",
       "    <tr>\n",
       "      <th>12</th>\n",
       "      <td>3</td>\n",
       "      <td>23</td>\n",
       "      <td>Sennheiser Momentum</td>\n",
       "    </tr>\n",
       "    <tr>\n",
       "      <th>13</th>\n",
       "      <td>2</td>\n",
       "      <td>19</td>\n",
       "      <td>Sennheiser Momentum</td>\n",
       "    </tr>\n",
       "    <tr>\n",
       "      <th>14</th>\n",
       "      <td>1</td>\n",
       "      <td>13</td>\n",
       "      <td>Sennheiser Momentum</td>\n",
       "    </tr>\n",
       "    <tr>\n",
       "      <th>15</th>\n",
       "      <td>5</td>\n",
       "      <td>10569</td>\n",
       "      <td>Skullcandy Ink'd 2.0</td>\n",
       "    </tr>\n",
       "    <tr>\n",
       "      <th>16</th>\n",
       "      <td>4</td>\n",
       "      <td>3666</td>\n",
       "      <td>Skullcandy Ink'd 2.0</td>\n",
       "    </tr>\n",
       "    <tr>\n",
       "      <th>17</th>\n",
       "      <td>3</td>\n",
       "      <td>1941</td>\n",
       "      <td>Skullcandy Ink'd 2.0</td>\n",
       "    </tr>\n",
       "    <tr>\n",
       "      <th>18</th>\n",
       "      <td>2</td>\n",
       "      <td>1509</td>\n",
       "      <td>Skullcandy Ink'd 2.0</td>\n",
       "    </tr>\n",
       "    <tr>\n",
       "      <th>19</th>\n",
       "      <td>1</td>\n",
       "      <td>4314</td>\n",
       "      <td>Skullcandy Ink'd 2.0</td>\n",
       "    </tr>\n",
       "    <tr>\n",
       "      <th>20</th>\n",
       "      <td>5</td>\n",
       "      <td>332</td>\n",
       "      <td>Auriculares con Cables</td>\n",
       "    </tr>\n",
       "    <tr>\n",
       "      <th>21</th>\n",
       "      <td>4</td>\n",
       "      <td>136</td>\n",
       "      <td>Auriculares con Cables</td>\n",
       "    </tr>\n",
       "    <tr>\n",
       "      <th>22</th>\n",
       "      <td>3</td>\n",
       "      <td>59</td>\n",
       "      <td>Auriculares con Cables</td>\n",
       "    </tr>\n",
       "    <tr>\n",
       "      <th>23</th>\n",
       "      <td>2</td>\n",
       "      <td>29</td>\n",
       "      <td>Auriculares con Cables</td>\n",
       "    </tr>\n",
       "    <tr>\n",
       "      <th>24</th>\n",
       "      <td>1</td>\n",
       "      <td>35</td>\n",
       "      <td>Auriculares con Cables</td>\n",
       "    </tr>\n",
       "    <tr>\n",
       "      <th>25</th>\n",
       "      <td>5</td>\n",
       "      <td>41</td>\n",
       "      <td>Xiaomi</td>\n",
       "    </tr>\n",
       "    <tr>\n",
       "      <th>26</th>\n",
       "      <td>4</td>\n",
       "      <td>8</td>\n",
       "      <td>Xiaomi</td>\n",
       "    </tr>\n",
       "    <tr>\n",
       "      <th>27</th>\n",
       "      <td>3</td>\n",
       "      <td>2</td>\n",
       "      <td>Xiaomi</td>\n",
       "    </tr>\n",
       "    <tr>\n",
       "      <th>28</th>\n",
       "      <td>2</td>\n",
       "      <td>1</td>\n",
       "      <td>Xiaomi</td>\n",
       "    </tr>\n",
       "    <tr>\n",
       "      <th>29</th>\n",
       "      <td>1</td>\n",
       "      <td>6</td>\n",
       "      <td>Xiaomi</td>\n",
       "    </tr>\n",
       "  </tbody>\n",
       "</table>\n",
       "</div>"
      ],
      "text/plain": [
       "    ReviewStar  count                 product\n",
       "0            5   1256                JBL T205\n",
       "1            4    450                JBL T205\n",
       "2            3    213                JBL T205\n",
       "3            2    118                JBL T205\n",
       "4            1    331                JBL T205\n",
       "5            5    986    Samsung BT-EOEG920BR\n",
       "6            4    238    Samsung BT-EOEG920BR\n",
       "7            3    170    Samsung BT-EOEG920BR\n",
       "8            2     85    Samsung BT-EOEG920BR\n",
       "9            1    204    Samsung BT-EOEG920BR\n",
       "10           5    109     Sennheiser Momentum\n",
       "11           4     27     Sennheiser Momentum\n",
       "12           3     23     Sennheiser Momentum\n",
       "13           2     19     Sennheiser Momentum\n",
       "14           1     13     Sennheiser Momentum\n",
       "15           5  10569    Skullcandy Ink'd 2.0\n",
       "16           4   3666    Skullcandy Ink'd 2.0\n",
       "17           3   1941    Skullcandy Ink'd 2.0\n",
       "18           2   1509    Skullcandy Ink'd 2.0\n",
       "19           1   4314    Skullcandy Ink'd 2.0\n",
       "20           5    332  Auriculares con Cables\n",
       "21           4    136  Auriculares con Cables\n",
       "22           3     59  Auriculares con Cables\n",
       "23           2     29  Auriculares con Cables\n",
       "24           1     35  Auriculares con Cables\n",
       "25           5     41                  Xiaomi\n",
       "26           4      8                  Xiaomi\n",
       "27           3      2                  Xiaomi\n",
       "28           2      1                  Xiaomi\n",
       "29           1      6                  Xiaomi"
      ]
     },
     "execution_count": 420,
     "metadata": {},
     "output_type": "execute_result"
    }
   ],
   "source": [
    "df_row = pd.concat([final, final1], ignore_index=True)\n",
    "df_row1 = pd.concat([df_row, final2], ignore_index=True)\n",
    "df_row2 = pd.concat([df_row1, final3], ignore_index=True)\n",
    "df_row3 = pd.concat([df_row2, final4], ignore_index=True)\n",
    "wired_earphones = pd.concat([df_row3, final5], ignore_index=True)\n",
    "wired_earphones\n"
   ]
  },
  {
   "cell_type": "code",
   "execution_count": 422,
   "metadata": {},
   "outputs": [],
   "source": [
    "wired_earphones.to_csv('../Data/WiredEarphones.csv')"
   ]
  },
  {
   "cell_type": "code",
   "execution_count": 434,
   "metadata": {},
   "outputs": [],
   "source": [
    "d = {'col1': [1, 2, 3, 4, 5, 6]}\n",
    "da = pd.DataFrame(d)"
   ]
  },
  {
   "cell_type": "code",
   "execution_count": 435,
   "metadata": {},
   "outputs": [
    {
     "data": {
      "text/html": [
       "<div>\n",
       "<style scoped>\n",
       "    .dataframe tbody tr th:only-of-type {\n",
       "        vertical-align: middle;\n",
       "    }\n",
       "\n",
       "    .dataframe tbody tr th {\n",
       "        vertical-align: top;\n",
       "    }\n",
       "\n",
       "    .dataframe thead th {\n",
       "        text-align: right;\n",
       "    }\n",
       "</style>\n",
       "<table border=\"1\" class=\"dataframe\">\n",
       "  <thead>\n",
       "    <tr style=\"text-align: right;\">\n",
       "      <th></th>\n",
       "      <th>col1</th>\n",
       "    </tr>\n",
       "  </thead>\n",
       "  <tbody>\n",
       "    <tr>\n",
       "      <th>0</th>\n",
       "      <td>1</td>\n",
       "    </tr>\n",
       "    <tr>\n",
       "      <th>1</th>\n",
       "      <td>2</td>\n",
       "    </tr>\n",
       "    <tr>\n",
       "      <th>2</th>\n",
       "      <td>3</td>\n",
       "    </tr>\n",
       "    <tr>\n",
       "      <th>3</th>\n",
       "      <td>4</td>\n",
       "    </tr>\n",
       "    <tr>\n",
       "      <th>4</th>\n",
       "      <td>5</td>\n",
       "    </tr>\n",
       "    <tr>\n",
       "      <th>5</th>\n",
       "      <td>6</td>\n",
       "    </tr>\n",
       "  </tbody>\n",
       "</table>\n",
       "</div>"
      ],
      "text/plain": [
       "   col1\n",
       "0     1\n",
       "1     2\n",
       "2     3\n",
       "3     4\n",
       "4     5\n",
       "5     6"
      ]
     },
     "execution_count": 435,
     "metadata": {},
     "output_type": "execute_result"
    }
   ],
   "source": [
    "da"
   ]
  },
  {
   "cell_type": "code",
   "execution_count": 436,
   "metadata": {},
   "outputs": [],
   "source": [
    "da.insert(1, \"product\", [\"JBL T205\", \"Samsung BT-EOEG920BR\", \"Sennheiser Momentum\", \"Skullcandy Ink'd 2.0\", \"Auriculares con Cables\", \"Xiaomi\"], True)\n",
    "da.insert(2, \"prices\", [20, 20, 65, 23, 8, 11])\n"
   ]
  },
  {
   "cell_type": "code",
   "execution_count": 441,
   "metadata": {},
   "outputs": [
    {
     "data": {
      "text/html": [
       "<div>\n",
       "<style scoped>\n",
       "    .dataframe tbody tr th:only-of-type {\n",
       "        vertical-align: middle;\n",
       "    }\n",
       "\n",
       "    .dataframe tbody tr th {\n",
       "        vertical-align: top;\n",
       "    }\n",
       "\n",
       "    .dataframe thead th {\n",
       "        text-align: right;\n",
       "    }\n",
       "</style>\n",
       "<table border=\"1\" class=\"dataframe\">\n",
       "  <thead>\n",
       "    <tr style=\"text-align: right;\">\n",
       "      <th></th>\n",
       "      <th>product</th>\n",
       "      <th>prices</th>\n",
       "    </tr>\n",
       "  </thead>\n",
       "  <tbody>\n",
       "    <tr>\n",
       "      <th>0</th>\n",
       "      <td>JBL T205</td>\n",
       "      <td>20</td>\n",
       "    </tr>\n",
       "    <tr>\n",
       "      <th>1</th>\n",
       "      <td>Samsung BT-EOEG920BR</td>\n",
       "      <td>20</td>\n",
       "    </tr>\n",
       "    <tr>\n",
       "      <th>2</th>\n",
       "      <td>Sennheiser Momentum</td>\n",
       "      <td>65</td>\n",
       "    </tr>\n",
       "    <tr>\n",
       "      <th>3</th>\n",
       "      <td>Skullcandy Ink'd 2.0</td>\n",
       "      <td>23</td>\n",
       "    </tr>\n",
       "    <tr>\n",
       "      <th>4</th>\n",
       "      <td>Auriculares con Cables</td>\n",
       "      <td>8</td>\n",
       "    </tr>\n",
       "    <tr>\n",
       "      <th>5</th>\n",
       "      <td>Xiaomi</td>\n",
       "      <td>11</td>\n",
       "    </tr>\n",
       "  </tbody>\n",
       "</table>\n",
       "</div>"
      ],
      "text/plain": [
       "                  product  prices\n",
       "0                JBL T205      20\n",
       "1    Samsung BT-EOEG920BR      20\n",
       "2     Sennheiser Momentum      65\n",
       "3    Skullcandy Ink'd 2.0      23\n",
       "4  Auriculares con Cables       8\n",
       "5                  Xiaomi      11"
      ]
     },
     "execution_count": 441,
     "metadata": {},
     "output_type": "execute_result"
    }
   ],
   "source": [
    "da.drop([\"col1\"], axis=1, inplace=True)"
   ]
  },
  {
   "cell_type": "code",
   "execution_count": 442,
   "metadata": {},
   "outputs": [
    {
     "data": {
      "text/html": [
       "<div>\n",
       "<style scoped>\n",
       "    .dataframe tbody tr th:only-of-type {\n",
       "        vertical-align: middle;\n",
       "    }\n",
       "\n",
       "    .dataframe tbody tr th {\n",
       "        vertical-align: top;\n",
       "    }\n",
       "\n",
       "    .dataframe thead th {\n",
       "        text-align: right;\n",
       "    }\n",
       "</style>\n",
       "<table border=\"1\" class=\"dataframe\">\n",
       "  <thead>\n",
       "    <tr style=\"text-align: right;\">\n",
       "      <th></th>\n",
       "      <th>product</th>\n",
       "      <th>prices</th>\n",
       "    </tr>\n",
       "  </thead>\n",
       "  <tbody>\n",
       "    <tr>\n",
       "      <th>0</th>\n",
       "      <td>JBL T205</td>\n",
       "      <td>20</td>\n",
       "    </tr>\n",
       "    <tr>\n",
       "      <th>1</th>\n",
       "      <td>Samsung BT-EOEG920BR</td>\n",
       "      <td>20</td>\n",
       "    </tr>\n",
       "    <tr>\n",
       "      <th>2</th>\n",
       "      <td>Sennheiser Momentum</td>\n",
       "      <td>65</td>\n",
       "    </tr>\n",
       "    <tr>\n",
       "      <th>3</th>\n",
       "      <td>Skullcandy Ink'd 2.0</td>\n",
       "      <td>23</td>\n",
       "    </tr>\n",
       "    <tr>\n",
       "      <th>4</th>\n",
       "      <td>Auriculares con Cables</td>\n",
       "      <td>8</td>\n",
       "    </tr>\n",
       "    <tr>\n",
       "      <th>5</th>\n",
       "      <td>Xiaomi</td>\n",
       "      <td>11</td>\n",
       "    </tr>\n",
       "  </tbody>\n",
       "</table>\n",
       "</div>"
      ],
      "text/plain": [
       "                  product  prices\n",
       "0                JBL T205      20\n",
       "1    Samsung BT-EOEG920BR      20\n",
       "2     Sennheiser Momentum      65\n",
       "3    Skullcandy Ink'd 2.0      23\n",
       "4  Auriculares con Cables       8\n",
       "5                  Xiaomi      11"
      ]
     },
     "execution_count": 442,
     "metadata": {},
     "output_type": "execute_result"
    }
   ],
   "source": [
    "da"
   ]
  },
  {
   "cell_type": "code",
   "execution_count": 443,
   "metadata": {},
   "outputs": [],
   "source": [
    "da.to_csv('../Data/ProductEarphones.csv')"
   ]
  }
 ],
 "metadata": {
  "kernelspec": {
   "display_name": "Python 3",
   "language": "python",
   "name": "python3"
  },
  "language_info": {
   "codemirror_mode": {
    "name": "ipython",
    "version": 3
   },
   "file_extension": ".py",
   "mimetype": "text/x-python",
   "name": "python",
   "nbconvert_exporter": "python",
   "pygments_lexer": "ipython3",
   "version": "3.8.5"
  }
 },
 "nbformat": 4,
 "nbformat_minor": 4
}
